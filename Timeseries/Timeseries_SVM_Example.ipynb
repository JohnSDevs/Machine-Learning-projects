{
 "cells": [
  {
   "cell_type": "code",
   "execution_count": 1,
   "metadata": {},
   "outputs": [
    {
     "name": "stderr",
     "output_type": "stream",
     "text": [
      "/opt/conda/lib/python3.6/importlib/_bootstrap.py:219: RuntimeWarning: numpy.dtype size changed, may indicate binary incompatibility. Expected 96, got 88\n",
      "  return f(*args, **kwds)\n",
      "/opt/conda/lib/python3.6/importlib/_bootstrap.py:219: RuntimeWarning: numpy.dtype size changed, may indicate binary incompatibility. Expected 96, got 88\n",
      "  return f(*args, **kwds)\n"
     ]
    }
   ],
   "source": [
    "#import modules \n",
    "import requests \n",
    "import base64\n",
    "import json\n",
    "import pandas as pd\n",
    "from pandas.io.json import json_normalize\n",
    "from pandas import Series\n",
    "from matplotlib import pyplot as plt\n",
    "import datetime\n",
    "\n"
   ]
  },
  {
   "cell_type": "markdown",
   "metadata": {},
   "source": [
    "### Import sampled data from a temp sensor"
   ]
  },
  {
   "cell_type": "code",
   "execution_count": 6,
   "metadata": {},
   "outputs": [
    {
     "name": "stdout",
     "output_type": "stream",
     "text": [
      "8379\n"
     ]
    },
    {
     "data": {
      "text/html": [
       "<div>\n",
       "<style scoped>\n",
       "    .dataframe tbody tr th:only-of-type {\n",
       "        vertical-align: middle;\n",
       "    }\n",
       "\n",
       "    .dataframe tbody tr th {\n",
       "        vertical-align: top;\n",
       "    }\n",
       "\n",
       "    .dataframe thead th {\n",
       "        text-align: right;\n",
       "    }\n",
       "</style>\n",
       "<table border=\"1\" class=\"dataframe\">\n",
       "  <thead>\n",
       "    <tr style=\"text-align: right;\">\n",
       "      <th></th>\n",
       "      <th>temp</th>\n",
       "      <th>time</th>\n",
       "    </tr>\n",
       "  </thead>\n",
       "  <tbody>\n",
       "    <tr>\n",
       "      <th>0</th>\n",
       "      <td>22.86</td>\n",
       "      <td>2018-06-01 17:50:58.339</td>\n",
       "    </tr>\n",
       "    <tr>\n",
       "      <th>1</th>\n",
       "      <td>21.84</td>\n",
       "      <td>2018-06-01 18:19:58.318</td>\n",
       "    </tr>\n",
       "  </tbody>\n",
       "</table>\n",
       "</div>"
      ],
      "text/plain": [
       "    temp                     time\n",
       "0  22.86  2018-06-01 17:50:58.339\n",
       "1  21.84  2018-06-01 18:19:58.318"
      ]
     },
     "execution_count": 6,
     "metadata": {},
     "output_type": "execute_result"
    }
   ],
   "source": [
    "df = pd.read_csv('./tempSensor.csv', index_col=0)\n",
    "print(len(df))\n",
    "df.head(2)\n"
   ]
  },
  {
   "cell_type": "markdown",
   "metadata": {},
   "source": [
    "# Extract features, build dataset"
   ]
  },
  {
   "cell_type": "code",
   "execution_count": 20,
   "metadata": {},
   "outputs": [],
   "source": [
    "\n",
    "sample=[]\n",
    "sample_time=[]\n",
    "sample_index=[]\n",
    "sample_y=[]\n",
    "counter = 0\n",
    "negatives = []\n",
    "\n",
    "# Greedy algorithm to extract our required samples. In this case a machine heats up the environment \n",
    "# We want to see if we can train a model to detect this specific machine. \n",
    "#We also build negative dataset taking the following 6 features. Looks random enough for this experiment\n",
    "\n",
    "#The pattern we look in this dataset is 6 points long with a peak at the 3th point.\n",
    "#       x\n",
    "#         x\n",
    "#     x     x  x\n",
    "#   x\n",
    "\n",
    "for x in range (3,8375):\n",
    "    if df['temp'][x] >= df['temp'][x-2]+1.5 and df['temp'][x+1] < df['temp'][x]:\n",
    "        example = [df['temp'][x-2:x+3]]\n",
    "        sample.append(ex)\n",
    "        sample_time.append(df['time'][x-2])\n",
    "        sample_index.append(counter)\n",
    "        sample_y.append('1')\n",
    "        if(x < 8375 and x > 11):\n",
    "            negatives.append([df['temp'][x-10:x-4]])\n",
    "        counter=counter+1\n",
    "\n",
    "\n",
    "# Now we have to manually check that each example is correct and remove bad ones or duplicates.                             \n",
    "# Create Dataframe and manually remove bad examples using actual log.\n",
    "df_raw = pd.DataFrame({'time': sample_time, 'col':sample,'nr':sample_index, 'y':'1'})\n",
    "neg_df = pd.DataFrame({'col':negatives, 'y':'0'})\n",
    "#new_df = df.drop(labels=[10,41,39,31,32,33,34,35,36,37,11,10,9,0])\n",
    "\n"
   ]
  },
  {
   "cell_type": "code",
   "execution_count": 21,
   "metadata": {},
   "outputs": [
    {
     "name": "stdout",
     "output_type": "stream",
     "text": [
      "                      time                                        col  nr  y\n",
      "0  2018-06-04 16:19:36.220  [21.84, 22.82, 24.0, 23.72, 22.92, 22.44]   0  1\n",
      "1  2018-06-29 05:58:29.066  [21.84, 22.82, 24.0, 23.72, 22.92, 22.44]   1  1\n",
      "2  2018-07-04 19:57:34.167  [21.84, 22.82, 24.0, 23.72, 22.92, 22.44]   2  1\n",
      "                                            col  y\n",
      "0  [[22.86, 22.74, 22.74, 22.68, 22.74, 22.78]]  0\n",
      "1  [[22.12, 22.02, 22.16, 22.06, 22.04, 21.98]]  0\n",
      "2   [[21.42, 21.5, 21.46, 21.58, 21.58, 21.74]]  0\n"
     ]
    }
   ],
   "source": [
    "print(df_raw.head(3))\n",
    "print(neg_df.head(3))"
   ]
  },
  {
   "cell_type": "code",
   "execution_count": 28,
   "metadata": {},
   "outputs": [],
   "source": [
    "#Clean the dataframe and add nevatives\n",
    "dataset = pd.concat([df_raw['col'], df_raw['y']],axis=1)\n",
    "dataset = dataset.append(neg_df)\n",
    "dataset.reset_index(drop=True, inplace=True)\n",
    "\n",
    "#Store dataset to disk\n",
    "#dataset.to_pickle('./datasets/machine/Timeseries_sensor_2018-09-02') \n"
   ]
  },
  {
   "cell_type": "markdown",
   "metadata": {},
   "source": [
    "### Here we add false positives from previous training. We also remove equal amount of negatives from dataset in \n",
    "### order to balance the dataset"
   ]
  },
  {
   "cell_type": "code",
   "execution_count": 7,
   "metadata": {},
   "outputs": [],
   "source": [
    "\n",
    "true_neg = [[19.72, 20.08, 21.12, 20.64, 20.72, 20.64],[22.0, 22.06, 22.56, 21.52, 21.18, 20.9],\n",
    "            [20.04, 20.64, 20.98, 19.86, 20.28, 20.5],[19.82, 19.76, 21.44, 20.12, 19.88, 19.94],\n",
    "            [18.86, 18.88, 20.94, 20.0, 19.58, 19.5],[20.54, 20.62, 22.24, 20.64, 19.86, 20.0],\n",
    "            [20.0, 21.42, 21.82, 20.6, 21.18, 20.66],[19.96, 20.34, 21.72, 21.18, 21.28, 20.48],\n",
    "            [19.66, 19.58, 20.52, 20.08, 19.7, 19.54]]\n",
    "\n",
    "#[18.86, 18.88, 20.94, 20.0, 19.58, 19.5],\n",
    "            #[18.86, 21.32, 21.36, 19.62, 19.32, 19.2],[18.74, 18.72, 20.74, 20.12, 19.74, 19.96]\n",
    "\n",
    "true_neg_y = [0,0,0,0,0,0,0,0,0]\n",
    "new_neg = pd.DataFrame({'col':true_neg,'y':true_neg_y}).astype(object)\n",
    "new_neg['y'] = new_neg['y'].astype(object)\n",
    "\n"
   ]
  },
  {
   "cell_type": "code",
   "execution_count": 29,
   "metadata": {},
   "outputs": [
    {
     "data": {
      "text/plain": [
       "270"
      ]
     },
     "execution_count": 29,
     "metadata": {},
     "output_type": "execute_result"
    }
   ],
   "source": [
    "len(dataset)"
   ]
  },
  {
   "cell_type": "code",
   "execution_count": 32,
   "metadata": {},
   "outputs": [
    {
     "name": "stdout",
     "output_type": "stream",
     "text": [
      "[1 0 1 0 0 0 0 0 0 0 0 0 0 1 1 0 1 1 0 1 0 0 0 0 1 1 1 1 0 1 0 0 1 0 1 1 0\n",
      " 1 0 1 1 0 0 0 1 1 1 0 0 1 1 1 1 0 0 1 1 0 1 0 1 1 0 0 1 0 1 0 0 0 0 0 0 1\n",
      " 1 0 1 0 0 1 1 1 1 1 1 0 1 0 1 1 1 1 0 1 0 0 0 1 1 0 1 1 1 0 1 0 1 0 0 1 1\n",
      " 1 1 1 0 1 1 1 0 0 1 1 1 0 0 0 0 1 0 1 0 0 0 1 1 0 0 0 0 0 0 1 0 1 1 1 0 1\n",
      " 1 1 0 1 0 0 0 1 1 1 0 0 0 0 1 1 0 1 1 0 1 1 0 1 0 1 0 1 0 1 0 0 1 0 1 0 1\n",
      " 0 0 0 0]\n"
     ]
    },
    {
     "ename": "ValueError",
     "evalue": "setting an array element with a sequence.",
     "output_type": "error",
     "traceback": [
      "\u001b[0;31m---------------------------------------------------------------------------\u001b[0m",
      "\u001b[0;31mValueError\u001b[0m                                Traceback (most recent call last)",
      "\u001b[0;32m<ipython-input-32-881967eb532c>\u001b[0m in \u001b[0;36m<module>\u001b[0;34m()\u001b[0m\n\u001b[1;32m      9\u001b[0m \u001b[0mprint\u001b[0m\u001b[0;34m(\u001b[0m\u001b[0my_train\u001b[0m\u001b[0;34m)\u001b[0m\u001b[0;34m\u001b[0m\u001b[0m\n\u001b[1;32m     10\u001b[0m \u001b[0;31m#Nomralize data\u001b[0m\u001b[0;34m\u001b[0m\u001b[0;34m\u001b[0m\u001b[0m\n\u001b[0;32m---> 11\u001b[0;31m \u001b[0mscaler\u001b[0m \u001b[0;34m=\u001b[0m \u001b[0mpreprocessing\u001b[0m\u001b[0;34m.\u001b[0m\u001b[0mStandardScaler\u001b[0m\u001b[0;34m(\u001b[0m\u001b[0;34m)\u001b[0m\u001b[0;34m.\u001b[0m\u001b[0mfit\u001b[0m\u001b[0;34m(\u001b[0m\u001b[0mX_train\u001b[0m\u001b[0;34m)\u001b[0m\u001b[0;34m\u001b[0m\u001b[0m\n\u001b[0m\u001b[1;32m     12\u001b[0m \u001b[0mX_train_transformed\u001b[0m \u001b[0;34m=\u001b[0m \u001b[0mscaler\u001b[0m\u001b[0;34m.\u001b[0m\u001b[0mtransform\u001b[0m\u001b[0;34m(\u001b[0m\u001b[0mX_train\u001b[0m\u001b[0;34m)\u001b[0m\u001b[0;34m\u001b[0m\u001b[0m\n\u001b[1;32m     13\u001b[0m \u001b[0mX_test_transformed\u001b[0m \u001b[0;34m=\u001b[0m \u001b[0mscaler\u001b[0m\u001b[0;34m.\u001b[0m\u001b[0mtransform\u001b[0m\u001b[0;34m(\u001b[0m\u001b[0mX_test\u001b[0m\u001b[0;34m)\u001b[0m\u001b[0;34m\u001b[0m\u001b[0m\n",
      "\u001b[0;32m/opt/conda/lib/python3.6/site-packages/sklearn/preprocessing/data.py\u001b[0m in \u001b[0;36mfit\u001b[0;34m(self, X, y)\u001b[0m\n\u001b[1;32m    588\u001b[0m         \u001b[0;31m# Reset internal state before fitting\u001b[0m\u001b[0;34m\u001b[0m\u001b[0;34m\u001b[0m\u001b[0m\n\u001b[1;32m    589\u001b[0m         \u001b[0mself\u001b[0m\u001b[0;34m.\u001b[0m\u001b[0m_reset\u001b[0m\u001b[0;34m(\u001b[0m\u001b[0;34m)\u001b[0m\u001b[0;34m\u001b[0m\u001b[0m\n\u001b[0;32m--> 590\u001b[0;31m         \u001b[0;32mreturn\u001b[0m \u001b[0mself\u001b[0m\u001b[0;34m.\u001b[0m\u001b[0mpartial_fit\u001b[0m\u001b[0;34m(\u001b[0m\u001b[0mX\u001b[0m\u001b[0;34m,\u001b[0m \u001b[0my\u001b[0m\u001b[0;34m)\u001b[0m\u001b[0;34m\u001b[0m\u001b[0m\n\u001b[0m\u001b[1;32m    591\u001b[0m \u001b[0;34m\u001b[0m\u001b[0m\n\u001b[1;32m    592\u001b[0m     \u001b[0;32mdef\u001b[0m \u001b[0mpartial_fit\u001b[0m\u001b[0;34m(\u001b[0m\u001b[0mself\u001b[0m\u001b[0;34m,\u001b[0m \u001b[0mX\u001b[0m\u001b[0;34m,\u001b[0m \u001b[0my\u001b[0m\u001b[0;34m=\u001b[0m\u001b[0;32mNone\u001b[0m\u001b[0;34m)\u001b[0m\u001b[0;34m:\u001b[0m\u001b[0;34m\u001b[0m\u001b[0m\n",
      "\u001b[0;32m/opt/conda/lib/python3.6/site-packages/sklearn/preprocessing/data.py\u001b[0m in \u001b[0;36mpartial_fit\u001b[0;34m(self, X, y)\u001b[0m\n\u001b[1;32m    610\u001b[0m         \"\"\"\n\u001b[1;32m    611\u001b[0m         X = check_array(X, accept_sparse=('csr', 'csc'), copy=self.copy,\n\u001b[0;32m--> 612\u001b[0;31m                         warn_on_dtype=True, estimator=self, dtype=FLOAT_DTYPES)\n\u001b[0m\u001b[1;32m    613\u001b[0m \u001b[0;34m\u001b[0m\u001b[0m\n\u001b[1;32m    614\u001b[0m         \u001b[0;31m# Even in the case of `with_mean=False`, we update the mean anyway\u001b[0m\u001b[0;34m\u001b[0m\u001b[0;34m\u001b[0m\u001b[0m\n",
      "\u001b[0;32m/opt/conda/lib/python3.6/site-packages/sklearn/utils/validation.py\u001b[0m in \u001b[0;36mcheck_array\u001b[0;34m(array, accept_sparse, dtype, order, copy, force_all_finite, ensure_2d, allow_nd, ensure_min_samples, ensure_min_features, warn_on_dtype, estimator)\u001b[0m\n\u001b[1;32m    431\u001b[0m                                       force_all_finite)\n\u001b[1;32m    432\u001b[0m     \u001b[0;32melse\u001b[0m\u001b[0;34m:\u001b[0m\u001b[0;34m\u001b[0m\u001b[0m\n\u001b[0;32m--> 433\u001b[0;31m         \u001b[0marray\u001b[0m \u001b[0;34m=\u001b[0m \u001b[0mnp\u001b[0m\u001b[0;34m.\u001b[0m\u001b[0marray\u001b[0m\u001b[0;34m(\u001b[0m\u001b[0marray\u001b[0m\u001b[0;34m,\u001b[0m \u001b[0mdtype\u001b[0m\u001b[0;34m=\u001b[0m\u001b[0mdtype\u001b[0m\u001b[0;34m,\u001b[0m \u001b[0morder\u001b[0m\u001b[0;34m=\u001b[0m\u001b[0morder\u001b[0m\u001b[0;34m,\u001b[0m \u001b[0mcopy\u001b[0m\u001b[0;34m=\u001b[0m\u001b[0mcopy\u001b[0m\u001b[0;34m)\u001b[0m\u001b[0;34m\u001b[0m\u001b[0m\n\u001b[0m\u001b[1;32m    434\u001b[0m \u001b[0;34m\u001b[0m\u001b[0m\n\u001b[1;32m    435\u001b[0m         \u001b[0;32mif\u001b[0m \u001b[0mensure_2d\u001b[0m\u001b[0;34m:\u001b[0m\u001b[0;34m\u001b[0m\u001b[0m\n",
      "\u001b[0;31mValueError\u001b[0m: setting an array element with a sequence."
     ]
    }
   ],
   "source": [
    "from sklearn import svm\n",
    "from sklearn.model_selection import train_test_split\n",
    "from sklearn import metrics\n",
    "from sklearn.model_selection import cross_val_score\n",
    "from sklearn import preprocessing\n",
    "\n",
    "#Splid dataset in to test/train\n",
    "X_train, X_test, y_train, y_test = train_test_split(list(dataset.col), dataset.y.values.astype('int'), test_size=0.3,random_state=109) \n",
    "print(y_train)\n",
    "#Nomralize data\n",
    "scaler = preprocessing.StandardScaler().fit(X_train)\n",
    "X_train_transformed = scaler.transform(X_train)\n",
    "X_test_transformed = scaler.transform(X_test)\n",
    "\n",
    "#MinMax Scaler\n",
    "min_max_scaler = preprocessing.MinMaxScaler()\n",
    "X_train_minmax = min_max_scaler.fit_transform(X_train)\n",
    "X_test_minmax = min_max_scaler.fit_transform(X_test)\n",
    "\n",
    "#Train model\n",
    "clf = svm.SVC(kernel='rbf',probability=True)\n",
    "clf.fit(X_train_transformed, y_train)\n",
    "\n",
    "#Train model Min Max\n",
    "clf_minMax = svm.SVC(kernel='rbf',probability=True)\n",
    "clf_minMax.fit(X_train_minmax, y_train)\n",
    "\n",
    "#Predict\n",
    "score_trans = clf.score(X_test_transformed, y_test)  \n",
    "y_pred = clf.predict(X_test_transformed)\n",
    "y_prob = clf.predict_proba(X_test_transformed)\n",
    "y_prov_minMax = clf_minMax.predict_proba(X_test_minmax)"
   ]
  },
  {
   "cell_type": "markdown",
   "metadata": {},
   "source": [
    "### SVM validation "
   ]
  },
  {
   "cell_type": "code",
   "execution_count": 14,
   "metadata": {},
   "outputs": [
    {
     "name": "stdout",
     "output_type": "stream",
     "text": [
      "Accuracy: 0.9130434782608695\n"
     ]
    }
   ],
   "source": [
    "#Metrics\n",
    "scores = cross_val_score(clf, X_test_transformed, y_test, cv=5,scoring='recall_macro')\n",
    "print(\"Accuracy:\",metrics.accuracy_score(y_test, y_pred))\n"
   ]
  },
  {
   "cell_type": "code",
   "execution_count": 15,
   "metadata": {},
   "outputs": [
    {
     "name": "stdout",
     "output_type": "stream",
     "text": [
      "Precision 0.9636363636363636 [1.         1.         0.81818182 1.         1.        ]\n",
      "Recalls 0.9055555555555556 [0.88888889 0.88888889 1.         0.75       1.        ]\n",
      "Accuracy: 0.9130434782608695\n"
     ]
    },
    {
     "data": {
      "text/plain": [
       "array([[0.05563287, 0.94436713]])"
      ]
     },
     "execution_count": 15,
     "metadata": {},
     "output_type": "execute_result"
    }
   ],
   "source": [
    "from sklearn.metrics import precision_score, recall_score, make_scorer\n",
    "import numpy as np\n",
    "# Precision\n",
    "precision_scorer = make_scorer(precision_score, pos_label=1)\n",
    "precisions = cross_val_score(clf, X_train_transformed, y_train, cv=5, scoring=precision_scorer)\n",
    "print ('Precision', np.mean(precisions), precisions)\n",
    "\n",
    "# Recall\n",
    "recall_scorer = make_scorer(recall_score, pos_label=1)\n",
    "recalls = cross_val_score(clf, X_train_transformed, y_train, cv=5, scoring=recall_scorer)\n",
    "print ('Recalls', np.mean(recalls), recalls)\n",
    "print(\"Accuracy:\",metrics.accuracy_score(y_test, y_pred))\n",
    "clf.predict_proba(scaler.transform([[20, 21.42, 21.82, 20.6, 21.18, 20.66]]))"
   ]
  },
  {
   "cell_type": "code",
   "execution_count": 473,
   "metadata": {
    "scrolled": true
   },
   "outputs": [
    {
     "name": "stdout",
     "output_type": "stream",
     "text": [
      "0.98\n"
     ]
    }
   ],
   "source": [
    "#Test single features\n",
    "sample_1 = min_max_scaler.transform([[29,33,33.38,33.12,32.22,31.06],[20.30,20.34,20.84,20.78,21.44,21.40]])\n",
    "sample_transformed = scaler.transform([[18.18,18.3,18.28,17.9,17.9,17.86],[ 18.44,19.08,20.7,20.32,20.04,19.98]])\n",
    "score = clf_minMax.predict_proba(sample_1)\n",
    "print(\"%.2f\" % score[0][1])\n",
    "#clf.predict(sample_transformed) \n",
    "\n",
    "#X_test_minmax = min_max_scaler.transform([[ 18.44,19.08,20.7,20.32,20.04,19.98]])\n",
    "#clf_minMax.predict_proba(X_test_minmax)\n",
    "\n"
   ]
  },
  {
   "cell_type": "markdown",
   "metadata": {},
   "source": [
    "### Gradient boosting"
   ]
  },
  {
   "cell_type": "code",
   "execution_count": null,
   "metadata": {},
   "outputs": [],
   "source": [
    "model = lightgbm.LGBMClassifier(objective='binary',\n",
    "    random_state=0, bagging_fraction=0.5, \n",
    "    num_iterations=1000, learning_rate=0.01, early_stopping_rounds=50)\n",
    "\n",
    "model.fit(X_train, y_train, eval_set=[(X_test, y_test)])"
   ]
  },
  {
   "cell_type": "markdown",
   "metadata": {},
   "source": [
    "### Tesf or rolling window prediction for whole peroiod. (6 slots) Whould store values above threshold."
   ]
  },
  {
   "cell_type": "code",
   "execution_count": 2,
   "metadata": {
    "scrolled": true
   },
   "outputs": [
    {
     "ename": "NameError",
     "evalue": "name 'john_30d' is not defined",
     "output_type": "error",
     "traceback": [
      "\u001b[0;31m---------------------------------------------------------------------------\u001b[0m",
      "\u001b[0;31mNameError\u001b[0m                                 Traceback (most recent call last)",
      "\u001b[0;32m<ipython-input-2-22c66002b4fe>\u001b[0m in \u001b[0;36m<module>\u001b[0;34m()\u001b[0m\n\u001b[1;32m      5\u001b[0m \u001b[0msamples\u001b[0m \u001b[0;34m=\u001b[0m \u001b[0;34m[\u001b[0m\u001b[0;34m]\u001b[0m\u001b[0;34m\u001b[0m\u001b[0m\n\u001b[1;32m      6\u001b[0m \u001b[0msamples_index\u001b[0m \u001b[0;34m=\u001b[0m \u001b[0;34m[\u001b[0m\u001b[0;34m]\u001b[0m\u001b[0;34m\u001b[0m\u001b[0m\n\u001b[0;32m----> 7\u001b[0;31m \u001b[0mday\u001b[0m\u001b[0;34m=\u001b[0m \u001b[0mjohn_30d\u001b[0m\u001b[0;34m\u001b[0m\u001b[0m\n\u001b[0m\u001b[1;32m      8\u001b[0m \u001b[0mprob\u001b[0m\u001b[0;34m=\u001b[0m \u001b[0;34m[\u001b[0m\u001b[0;34m]\u001b[0m\u001b[0;34m\u001b[0m\u001b[0m\n\u001b[1;32m      9\u001b[0m \u001b[0;34m\u001b[0m\u001b[0m\n",
      "\u001b[0;31mNameError\u001b[0m: name 'john_30d' is not defined"
     ]
    }
   ],
   "source": [
    "day_score = []\n",
    "window_size = 6\n",
    "cutoff = 0.7\n",
    "window = []\n",
    "samples = []\n",
    "samples_index = []\n",
    "day= john_30d\n",
    "prob= []\n",
    "\n",
    "for hour in range (0,len(day)-5):\n",
    "    #window = [day[x], day[x+1],day[x+2],day[x+3],day[x+4],day[x+5]]\n",
    "    window = day[hour:hour+window_size]\n",
    "    sample_t = scaler.transform([window])\n",
    "    #prob = clf.predict_proba(sample_t)\n",
    "    prob = tpot.predict_proba([window])\n",
    "    if(prob[0][1] > cutoff):\n",
    "        samples.append(window)\n",
    "        samples_index.append([hour+2, day[hour+2]])\n",
    "        day_score.append([prob])\n",
    "        print(prob, hour+2, window)\n",
    "\n",
    "#print(day_score[0][0][0][1])\n",
    "result = samples[:]\n",
    "result_index = samples_index[:]\n",
    "final = []\n",
    "final_i = []\n",
    "\n",
    "print(result)\n",
    "\n",
    "#Clean duplicates\n",
    "for x in range(0,len(result_index)-1):\n",
    "    if (result_index[x][0]+3 > result_index[x+1][0]):\n",
    "        if (day_score[x][0][0][1] > day_score[x+1][0][0][1]):\n",
    "            final.append(result[x])\n",
    "            final_i.append(samples_index[x])\n",
    "        elif (day_score[x][0][0][1] < day_score[x+1][0][0][1]):\n",
    "            print(\"2\", result[x+1])\n",
    "            final.append(result[x+1])\n",
    "            final_i.append(samples_index[x+1])\n",
    "            \n",
    "           \n",
    "fig, axs = plt.subplots(1, len(final), figsize=(15,2), sharey=True)\n",
    "for x in range(0,len(final)):\n",
    "    axs[x].plot(final[x])\n",
    "\n",
    "plt.figure(figsize=(18,7))\n",
    "for x in range(0, len(final_i)):\n",
    "    plt.plot(final_i[x][0], final_i[x][1], 'rd')\n",
    "plt.plot(day)\n",
    "\n"
   ]
  },
  {
   "cell_type": "code",
   "execution_count": 111,
   "metadata": {},
   "outputs": [
    {
     "name": "stdout",
     "output_type": "stream",
     "text": [
      "[19.6, 18.32, 17.76, 17.14, 16.66, 16.28]\n",
      "[[0.99729198 0.00270802]]\n",
      "[17.14, 16.66, 16.28, 15.88, 15.48, 15.3]\n",
      "[[0.98918093 0.01081907]]\n",
      "[15.52, 15.54, 15.4, 15.22, 15.08, 14.8]\n",
      "[[0.96977881 0.03022119]]\n",
      "[13.96, 15.52, 18.6, 18.84, 17.98, 17.46]\n",
      "[[0.04395775 0.95604225]]\n",
      "[[0.04395775 0.95604225]] 20 [13.96, 15.52, 18.6, 18.84, 17.98, 17.46]\n",
      "[15.52, 18.6, 18.84, 17.98, 17.46, 16.92]\n",
      "[[0.22444824 0.77555176]]\n",
      "[[0.22444824 0.77555176]] 26 [15.52, 18.6, 18.84, 17.98, 17.46, 16.92]\n",
      "[17.46, 16.92, 16.5, 16.24, 16.04, 15.78]\n",
      "[[0.9906148 0.0093852]]\n",
      "[15.7, 15.66, 15.58, 15.58, 15.32, 15.26]\n",
      "[[0.96988991 0.03011009]]\n",
      "[15.44, 15.46, 15.54, 15.52, 15.56, 15.52]\n",
      "[[0.95952349 0.04047651]]\n",
      "[15.56, 15.54, 15.58, 15.6, 15.52, 15.62]\n",
      "[[0.96365741 0.03634259]]\n",
      "[15.76, 15.76, 15.84, 15.74, 15.78, 15.7]\n",
      "[[0.96082828 0.03917172]]\n",
      "[15.76, 15.76, 15.84, 15.74, 15.78, 15.7]\n",
      "[[0.96082828 0.03917172]]\n",
      "[15.86, 15.9, 15.94, 15.96, 15.94, 15.98]\n",
      "[[0.96090761 0.03909239]]\n",
      "[15.98, 15.98, 16.04, 15.98, 16, 16.06]\n",
      "[[0.96201566 0.03798434]]\n",
      "[16.1, 16.14, 16.24, 16.2, 16.08, 16.04]\n",
      "[[0.95790781 0.04209219]]\n",
      "[15.88, 15.98, 16.3, 16.68, 16.9, 16.92]\n",
      "[[0.93917505 0.06082495]]\n",
      "[16.9, 16.92, 17.08, 16.98, 16.8, 16.98]\n",
      "[[0.95635404 0.04364596]]\n",
      "[16.92, 17.08, 16.98, 16.8, 16.98, 16.94]\n",
      "[[0.96273371 0.03726629]]\n",
      "[16.98, 16.84, 16.76, 16.6, 16.48, 16.44]\n",
      "[[0.97432432 0.02567568]]\n",
      "[16.66, 20.06, 21.62, 20.36, 19.22, 18.82]\n",
      "[[0.00279854 0.99720146]]\n",
      "[[0.00279854 0.99720146]] 110 [16.66, 20.06, 21.62, 20.36, 19.22, 18.82]\n",
      "[21.62, 20.36, 19.22, 18.82, 18.34, 18.08]\n",
      "[[0.99879243 0.00120757]]\n",
      "[17.8, 17.84, 17.96, 17.9, 17.72, 17.46]\n",
      "[[0.9582488 0.0417512]]\n",
      "[17.4, 17.24, 17.18, 17.04, 17, 16.92]\n",
      "[[0.97454505 0.02545495]]\n",
      "[16.64, 16.48, 17.24, 20.48, 21.88, 20.06]\n",
      "[[0.87116423 0.12883577]]\n",
      "[17.24, 20.48, 21.88, 20.06, 19.28, 18.54]\n",
      "[[0.00438303 0.99561697]]\n",
      "[[0.00438303 0.99561697]] 140 [17.24, 20.48, 21.88, 20.06, 19.28, 18.54]\n",
      "[20.06, 19.28, 18.54, 18.08, 17.74, 17.52]\n",
      "[[0.9958502 0.0041498]]\n",
      "[16.64, 16.54, 17, 17, 16.86, 16.86]\n",
      "[[0.94454648 0.05545352]]\n",
      "[17, 17, 16.86, 16.86, 16.68, 16.7]\n",
      "[[0.97144972 0.02855028]]\n",
      "[16.72, 16.7, 16.78, 16.66, 16.68, 16.54]\n",
      "[[0.96258204 0.03741796]]\n",
      "[16.72, 16.7, 16.78, 16.66, 16.68, 16.54]\n",
      "[[0.96258204 0.03741796]]\n",
      "[16.76, 16.88, 16.92, 16.82, 16.76, 16.64]\n",
      "[[0.95736212 0.04263788]]\n",
      "[16.76, 16.88, 16.92, 16.82, 16.76, 16.64]\n",
      "[[0.95736212 0.04263788]]\n",
      "[16.66, 17.32, 17.44, 17.34, 17.3, 17.2]\n",
      "[[0.90557054 0.09442946]]\n",
      "[17.44, 17.34, 17.3, 17.2, 17.12, 17.2]\n",
      "[[0.97170605 0.02829395]]\n",
      "[17.08, 17.06, 17.1, 17, 16.98, 16.96]\n",
      "[[0.96476391 0.03523609]]\n",
      "[16.76, 16.86, 17.24, 17.2, 17.1, 17.06]\n",
      "[[0.93544126 0.06455874]]\n",
      "[17.04, 18.08, 21.28, 21.3, 20.08, 19.62]\n",
      "[[0.01356003 0.98643997]]\n",
      "[[0.01356003 0.98643997]] 212 [17.04, 18.08, 21.28, 21.3, 20.08, 19.62]\n",
      "[18.08, 21.28, 21.3, 20.08, 19.62, 19.16]\n",
      "[[0.05371133 0.94628867]]\n",
      "[[0.05371133 0.94628867]] 218 [18.08, 21.28, 21.3, 20.08, 19.62, 19.16]\n",
      "[19.62, 19.16, 18.7, 18.32, 18.08, 17.96]\n",
      "[[0.99052906 0.00947094]]\n",
      "[17.92, 17.82, 17.76, 17.64, 17.58, 17.46]\n",
      "[[0.97271905 0.02728095]]\n",
      "[17.68, 17.54, 18.44, 18.2, 18.08, 17.94]\n",
      "[[0.90966945 0.09033055]]\n",
      "[18.2, 18.08, 17.94, 17.84, 17.74, 17.62]\n",
      "[[0.97626278 0.02373722]]\n",
      "[17.76, 17.78, 20.76, 22.62, 21.24, 20.2]\n",
      "[[0.07079423 0.92920577]]\n",
      "[[0.07079423 0.92920577]] 248 [17.76, 17.78, 20.76, 22.62, 21.24, 20.2]\n",
      "[17.78, 20.76, 22.62, 21.24, 20.2, 19.88]\n",
      "[[0.00186366 0.99813634]]\n",
      "[[0.00186366 0.99813634]] 254 [17.78, 20.76, 22.62, 21.24, 20.2, 19.88]\n",
      "[18.78, 19.48, 22.72, 22.36, 21.02, 20.28]\n",
      "[[0.00649383 0.99350617]]\n",
      "[[0.00649383 0.99350617]] 260 [18.78, 19.48, 22.72, 22.36, 21.02, 20.28]\n",
      "[19.48, 22.72, 22.36, 21.02, 20.28, 19.9]\n",
      "[[0.02752474 0.97247526]]\n",
      "[[0.02752474 0.97247526]] 266 [19.48, 22.72, 22.36, 21.02, 20.28, 19.9]\n",
      "[19.52, 19.26, 18.96, 18.68, 18.44, 18.2]\n",
      "[[0.98455883 0.01544117]]\n",
      "[18.3, 18.24, 18.22, 18.2, 17.96, 17.72]\n",
      "[[0.9698929 0.0301071]]\n",
      "[17.62, 17.7, 17.72, 17.64, 17.54, 17.44]\n",
      "[[0.96127243 0.03872757]]\n",
      "[17.62, 17.7, 17.72, 17.64, 17.54, 17.44]\n",
      "[[0.96127243 0.03872757]]\n",
      "[17.3, 17.22, 17.26, 17.18, 17.14, 17.08]\n",
      "[[0.96759743 0.03240257]]\n",
      "[17.08, 17, 16.94, 16.94, 16.92, 16.88]\n",
      "[[0.9714965 0.0285035]]\n",
      "[16.86, 16.92, 17.42, 17.3, 17.22, 17.22]\n",
      "[[0.92864463 0.07135537]]\n",
      "[17.42, 17.3, 17.22, 17.22, 17.2, 17.16]\n",
      "[[0.97386781 0.02613219]]\n",
      "[17.2, 18.1, 21.62, 21.56, 20.38, 19.74]\n",
      "[[0.00590905 0.99409095]]\n",
      "[[0.00590905 0.99409095]] 320 [17.2, 18.1, 21.62, 21.56, 20.38, 19.74]\n",
      "[18.1, 21.62, 21.56, 20.38, 19.74, 19.34]\n",
      "[[0.02204518 0.97795482]]\n",
      "[[0.02204518 0.97795482]] 326 [18.1, 21.62, 21.56, 20.38, 19.74, 19.34]\n",
      "[18.98, 18.68, 18.5, 18.26, 18.04, 17.94]\n",
      "[[0.98260911 0.01739089]]\n",
      "[17.84, 17.68, 17.58, 17.56, 17.44, 17.32]\n",
      "[[0.97608614 0.02391386]]\n",
      "[17.32, 17.8, 17.88, 17.82, 17.7, 17.66]\n",
      "[[0.92928502 0.07071498]]\n",
      "[17.8, 17.88, 17.82, 17.7, 17.66, 17.5]\n",
      "[[0.96527665 0.03472335]]\n",
      "[17.42, 17.36, 17.28, 17.18, 17.14, 17.02]\n",
      "[[0.97169445 0.02830555]]\n",
      "[16.96, 16.94, 16.92, 16.86, 16.82, 16.82]\n",
      "[[0.96737178 0.03262822]]\n",
      "[16.42, 16.62, 16.66, 16.56, 16.44, 16.3]\n",
      "[[0.95233714 0.04766286]]\n",
      "[16.62, 16.66, 16.56, 16.44, 16.3, 16.24]\n",
      "[[0.96800344 0.03199656]]\n",
      "[16.14, 16.58, 16.7, 16.56, 16.24, 16.14]\n",
      "[[0.92763153 0.07236847]]\n",
      "[16.58, 16.7, 16.56, 16.24, 16.14, 15.94]\n",
      "[[0.96623603 0.03376397]]\n",
      "[15.6, 15.92, 16.48, 16.44, 16.14, 16]\n",
      "[[0.89104654 0.10895346]]\n",
      "[16.48, 16.44, 16.14, 16, 15.92, 15.86]\n",
      "[[0.97790151 0.02209849]]\n",
      "[15.62, 15.5, 15.42, 15.4, 15.4, 15.36]\n",
      "[[0.9728838 0.0271162]]\n",
      "[15.54, 15.52, 15.64, 15.66, 15.96, 16.2]\n",
      "[[0.95960535 0.04039465]]\n",
      "[16.3, 16.44, 16.46, 16.54, 16.54, 16.52]\n",
      "[[0.95696422 0.04303578]]\n",
      "[16.52, 16.52, 16.6, 16.5, 16.52, 16.54]\n",
      "[[0.9614273 0.0385727]]\n",
      "[16.64, 16.68, 16.7, 16.74, 16.72, 16.8]\n",
      "[[0.9625212 0.0374788]]\n",
      "[16.74, 16.72, 16.8, 16.74, 16.76, 16.8]\n",
      "[[0.96259723 0.03740277]]\n",
      "[16.92, 17.38, 17.52, 17.38, 17.36, 17.32]\n",
      "[[0.92501833 0.07498167]]\n",
      "[17.46, 21.26, 22.46, 21.24, 20.56, 19.94]\n",
      "[[0.00148761 0.99851239]]\n",
      "[[0.00148761 0.99851239]] 446 [17.46, 21.26, 22.46, 21.24, 20.56, 19.94]\n",
      "[19.94, 21.92, 23.04, 21.38, 20.4, 20]\n",
      "[[0.0207107 0.9792893]]\n",
      "[[0.0207107 0.9792893]] 452 [19.94, 21.92, 23.04, 21.38, 20.4, 20]\n",
      "[19.94, 21.92, 23.04, 21.38, 20.4, 20]\n",
      "[[0.0207107 0.9792893]]\n",
      "[[0.0207107 0.9792893]] 458 [19.94, 21.92, 23.04, 21.38, 20.4, 20]\n",
      "[19.52, 19.08, 18.86, 18.6, 18.48, 18.46]\n",
      "[[0.98650741 0.01349259]]\n",
      "[18.46, 19.74, 22.36, 22.1, 20.96, 20.42]\n",
      "[[0.01228496 0.98771504]]\n",
      "[[0.01228496 0.98771504]] 470 [18.46, 19.74, 22.36, 22.1, 20.96, 20.42]\n",
      "[19.74, 22.36, 22.1, 20.96, 20.42, 20.04]\n",
      "[[0.05480909 0.94519091]]\n",
      "[[0.05480909 0.94519091]] 476 [19.74, 22.36, 22.1, 20.96, 20.42, 20.04]\n",
      "[19.82, 19.72, 19.42, 19.1, 19.14, 18.9]\n",
      "[[0.9809693 0.0190307]]\n",
      "[18.82, 18.64, 18.66, 18.52, 18.36, 18.5]\n",
      "[[0.97321841 0.02678159]]\n",
      "[18.36, 18.46, 19.34, 22.2, 22.06, 20.98]\n",
      "[[0.80650503 0.19349497]]\n",
      "[18.46, 19.34, 22.2, 22.06, 20.98, 20.38]\n",
      "[[0.01524681 0.98475319]]\n",
      "[[0.01524681 0.98475319]] 500 [18.46, 19.34, 22.2, 22.06, 20.98, 20.38]\n",
      "[20.98, 20.38, 20.28, 20.18, 19.8, 19.48]\n",
      "[[0.98759999 0.01240001]]\n",
      "[19.3, 19.06, 18.94, 18.82, 18.84, 18.84]\n",
      "[[0.97970283 0.02029717]]\n",
      "[18.86, 18.88, 18.82, 18.72, 18.52, 18.4]\n",
      "[[0.96861354 0.03138646]]\n",
      "[18.3, 18.24, 18.22, 18.18, 18.12, 18.1]\n",
      "[[0.9698929 0.0301071]]\n",
      "[18.12, 18.12, 18.14, 18.1, 18.1, 18.06]\n",
      "[[0.96550222 0.03449778]]\n",
      "[18.06, 18.32, 18.44, 18.34, 18.22, 18.2]\n",
      "[[0.9446816 0.0553184]]\n",
      "[18.3, 18.24, 18.5, 18.34, 18.44, 18.3]\n",
      "[[0.95644414 0.04355586]]\n",
      "[18.3, 18.24, 18.5, 18.34, 18.44, 18.3]\n",
      "[[0.95644414 0.04355586]]\n",
      "[18.28, 18.32, 18.22, 18.1, 18.06, 17.84]\n",
      "[[0.96907053 0.03092947]]\n",
      "[17.72, 17.68, 17.62, 17.52, 17.5, 17.6]\n",
      "[[0.97033182 0.02966818]]\n",
      "[17.42, 17.38, 17.4, 17.22, 17.12, 17]\n",
      "[[0.96680941 0.03319059]]\n",
      "[17, 16.9, 16.72, 16.68, 16.62, 16.52]\n",
      "[[0.97631044 0.02368956]]\n",
      "[16.56, 16.46, 16.48, 16.38, 16.28, 16.28]\n",
      "[[0.9688023 0.0311977]]\n",
      "[16.06, 16.68, 16.9, 16.84, 16.66, 16.62]\n",
      "[[0.897148 0.102852]]\n",
      "[16.62, 16.56, 16.82, 16.72, 16.62, 16.52]\n",
      "[[0.95494353 0.04505647]]\n",
      "[16.82, 16.96, 17.04, 17.08, 17.08, 17.06]\n",
      "[[0.95393667 0.04606333]]\n",
      "[16.96, 17.04, 17.08, 17.08, 17.06, 16.88]\n",
      "[[0.95970534 0.04029466]]\n",
      "[17.06, 16.88, 16.8, 16.8, 16.7, 16.72]\n",
      "[[0.97569901 0.02430099]]\n",
      "[18.42, 18.4, 20.76, 21.28, 20.1, 19.64]\n",
      "[[0.09512257 0.90487743]]\n",
      "[[0.09512257 0.90487743]] 614 [18.42, 18.4, 20.76, 21.28, 20.1, 19.64]\n",
      "[18.4, 20.76, 21.28, 20.1, 19.64, 18.8]\n",
      "[[0.04778072 0.95221928]]\n",
      "[[0.04778072 0.95221928]] 620 [18.4, 20.76, 21.28, 20.1, 19.64, 18.8]\n",
      "[19.64, 18.8, 18.4, 18.04, 17.72, 17.44]\n"
     ]
    },
    {
     "name": "stdout",
     "output_type": "stream",
     "text": [
      "[[0.99387011 0.00612989]]\n",
      "[17.2, 16.96, 16.74, 16.6, 16.52, 16.4]\n",
      "[[0.98146414 0.01853586]]\n",
      "[16.34, 16.28, 16.18, 16.18, 16.14, 15.94]\n",
      "[[0.97182043 0.02817957]]\n",
      "[15.56, 15.72, 15.98, 15.86, 15.66, 15.58]\n",
      "[[0.93878825 0.06121175]]\n",
      "[15.98, 15.86, 15.66, 15.58, 15.5, 15.44]\n",
      "[[0.97706696 0.02293304]]\n",
      "[15.3, 15.44, 15.54, 15.34, 15.42, 15.24]\n",
      "[[0.95125309 0.04874691]]\n",
      "[15.3, 15.44, 15.54, 15.34, 15.42, 15.24]\n",
      "[[0.95125309 0.04874691]]\n",
      "[15.1, 15, 14.88, 14.88, 14.88, 14.72]\n",
      "[[0.97331323 0.02668677]]\n",
      "[14.66, 14.64, 14.6, 14.54, 14.58, 14.46]\n",
      "[[0.96669763 0.03330237]]\n",
      "[14.28, 14.28, 14.44, 14.22, 14.18, 14.02]\n",
      "[[0.95517457 0.04482543]]\n",
      "[14.18, 14.02, 14.06, 13.96, 13.94, 14]\n",
      "[[0.96893919 0.03106081]]\n",
      "[14, 14.04, 14.12, 14.14, 14.16, 14.24]\n",
      "[[0.95721993 0.04278007]]\n",
      "[14.24, 14.2, 14.26, 14.24, 14.24, 14.38]\n",
      "[[0.96266944 0.03733056]]\n",
      "[14.5, 14.48, 15.46, 17.84, 18.68, 17.66]\n",
      "[[0.87747898 0.12252102]]\n",
      "[15.46, 17.84, 18.68, 17.66, 16.94, 16.54]\n",
      "[[0.248931 0.751069]]\n",
      "[[0.248931 0.751069]] 710 [15.46, 17.84, 18.68, 17.66, 16.94, 16.54]\n",
      "[17.66, 16.94, 16.54, 16.24, 15.9, 15.72]\n",
      "[[0.99247827 0.00752173]]\n",
      "[15.56, 15.5, 15.7, 15.42, 15.3, 15.14]\n",
      "[[0.95744607 0.04255393]]\n",
      "[14.9, 15.04, 15.08, 15.08, 15.02, 14.98]\n",
      "[[0.95455853 0.04544147]]\n",
      "[15.04, 15.08, 15.08, 15.02, 14.98, 15.04]\n",
      "[[0.96229036 0.03770964]]\n",
      "[15.06, 15, 15.12, 15.34, 15.24, 15.24]\n",
      "[[0.96130003 0.03869997]]\n",
      "[15, 15.12, 15.34, 15.24, 15.24, 15.18]\n",
      "[[0.94416687 0.05583313]]\n",
      "[15.46, 15.54, 15.56, 15.44, 15.32, 15.34]\n",
      "[[0.95953987 0.04046013]]\n",
      "[15.46, 15.54, 15.56, 15.44, 15.32, 15.34]\n",
      "[[0.95953987 0.04046013]]\n",
      "[15.26, 15.28, 15.22, 15.18, 15.08, 15.1]\n",
      "[[0.96622059 0.03377941]]\n",
      "[15.06, 15.02, 15.06, 15.06, 15.06, 15.04]\n",
      "[[0.96424212 0.03575788]]\n",
      "[15.2, 15.36, 15.6, 15.56, 15.42, 15.28]\n",
      "[[0.93991508 0.06008492]]\n",
      "[15.36, 15.6, 15.56, 15.42, 15.28, 15.18]\n",
      "[[0.95378587 0.04621413]]\n",
      "[15.16, 15.06, 14.96, 14.96, 14.96, 14.88]\n",
      "[[0.97262661 0.02737339]]\n",
      "[14.82, 14.74, 14.74, 14.66, 14.58, 14.56]\n",
      "[[0.96767351 0.03232649]]\n",
      "[14.94, 15.02, 15.1, 14.86, 14.84, 14.74]\n",
      "[[0.95576697 0.04423303]]\n",
      "[14.74, 16.78, 18.96, 18.02, 17.2, 16.62]\n",
      "[[0.07668614 0.92331386]]\n",
      "[[0.07668614 0.92331386]] 806 [14.74, 16.78, 18.96, 18.02, 17.2, 16.62]\n",
      "[16.78, 18.96, 18.02, 17.2, 16.62, 16.18]\n",
      "[[0.8366656 0.1633344]]\n",
      "[15.84, 15.66, 15.5, 15.3, 15.22, 15.06]\n",
      "[[0.97760784 0.02239216]]\n",
      "[15.76, 15.76, 15.82, 15.48, 15.36, 15.26]\n",
      "[[0.96184569 0.03815431]]\n",
      "[15.76, 15.76, 15.82, 15.48, 15.36, 15.26]\n",
      "[[0.96184569 0.03815431]]\n",
      "[15.02, 14.92, 14.94, 14.88, 14.9, 14.76]\n",
      "[[0.96780523 0.03219477]]\n",
      "[14.76, 14.68, 14.68, 14.64, 14.48, 14.42]\n",
      "[[0.96763389 0.03236611]]\n",
      "[14.4, 14.36, 14.34, 14.28, 14.24, 14.3]\n",
      "[[0.9665206 0.0334794]]\n",
      "[14.34, 14.32, 14.36, 14.34, 14.36, 14.42]\n",
      "[[0.96274518 0.03725482]]\n",
      "[14.5, 14.76, 14.84, 14.82, 14.72, 14.66]\n",
      "[[0.94360819 0.05639181]]\n",
      "[14.76, 14.84, 14.82, 14.72, 14.66, 14.64]\n",
      "[[0.96106388 0.03893612]]\n",
      "[14.8, 14.86, 14.88, 14.86, 14.84, 14.92]\n",
      "[[0.96005886 0.03994114]]\n",
      "[14.92, 14.96, 15, 15.02, 15.06, 15.08]\n",
      "[[0.96015583 0.03984417]]\n",
      "[15.08, 15.02, 15.14, 15.16, 15.18, 15.16]\n",
      "[[0.96131572 0.03868428]]\n",
      "[15.14, 15.08, 15.2, 15.12, 15.24, 15.16]\n",
      "[[0.96136277 0.03863723]]\n",
      "[15.2, 15.12, 15.24, 15.16, 15.18, 15.24]\n",
      "[[0.96241266 0.03758734]]\n",
      "[15.16, 15.18, 15.24, 15.2, 15.18, 15.16]\n",
      "[[0.96034908 0.03965092]]\n",
      "[15.04, 15.06, 15.1, 15.06, 15.04, 15.06]\n",
      "[[0.96128433 0.03871567]]\n",
      "[15.12, 15.1, 15.16, 15.14, 15.02, 15.06]\n",
      "[[0.96235156 0.03764844]]\n",
      "[15.16, 15.16, 15.24, 15.16, 15.2, 15.2]\n",
      "[[0.96034908 0.03965092]]\n",
      "[15.2, 15.2, 15.24, 15.22, 15.18, 15.16]\n",
      "[[0.96241266 0.03758734]]\n",
      "[15.18, 15.16, 15.22, 15.16, 15.18, 15.18]\n",
      "[[0.96239739 0.03760261]]\n",
      "[15.18, 15.22, 15.22, 15.2, 15.18, 15.18]\n",
      "[[0.96239739 0.03760261]]\n",
      "[15.12, 15.14, 15.06, 14.98, 15.04, 15.02]\n",
      "[[0.96700865 0.03299135]]\n",
      "[14.96, 14.96, 15.14, 14.96, 14.86, 14.86]\n",
      "[[0.9546134 0.0453866]]\n",
      "[14.98, 15.1, 15.62, 15.5, 15.5]\n"
     ]
    },
    {
     "ename": "ValueError",
     "evalue": "query data dimension must match training data dimension",
     "output_type": "error",
     "traceback": [
      "\u001b[0;31m---------------------------------------------------------------------------\u001b[0m",
      "\u001b[0;31mValueError\u001b[0m                                Traceback (most recent call last)",
      "\u001b[0;32m<ipython-input-111-016f328c035d>\u001b[0m in \u001b[0;36m<module>\u001b[0;34m()\u001b[0m\n\u001b[1;32m     22\u001b[0m     \u001b[0mprint\u001b[0m\u001b[0;34m(\u001b[0m\u001b[0mwindow\u001b[0m\u001b[0;34m)\u001b[0m\u001b[0;34m\u001b[0m\u001b[0m\n\u001b[1;32m     23\u001b[0m     \u001b[0;31m#prob = model.predict_proba([window])\u001b[0m\u001b[0;34m\u001b[0m\u001b[0;34m\u001b[0m\u001b[0m\n\u001b[0;32m---> 24\u001b[0;31m     \u001b[0mprob\u001b[0m \u001b[0;34m=\u001b[0m \u001b[0mtpot\u001b[0m\u001b[0;34m.\u001b[0m\u001b[0mpredict_proba\u001b[0m\u001b[0;34m(\u001b[0m\u001b[0;34m[\u001b[0m\u001b[0mwindow\u001b[0m\u001b[0;34m]\u001b[0m\u001b[0;34m)\u001b[0m\u001b[0;34m\u001b[0m\u001b[0m\n\u001b[0m\u001b[1;32m     25\u001b[0m     \u001b[0mprint\u001b[0m\u001b[0;34m(\u001b[0m\u001b[0mprob\u001b[0m\u001b[0;34m)\u001b[0m\u001b[0;34m\u001b[0m\u001b[0m\n\u001b[1;32m     26\u001b[0m     \u001b[0;32mif\u001b[0m\u001b[0;34m(\u001b[0m\u001b[0mprob\u001b[0m\u001b[0;34m[\u001b[0m\u001b[0;36m0\u001b[0m\u001b[0;34m]\u001b[0m\u001b[0;34m[\u001b[0m\u001b[0;36m1\u001b[0m\u001b[0;34m]\u001b[0m \u001b[0;34m>\u001b[0m \u001b[0mcutoff\u001b[0m\u001b[0;34m)\u001b[0m\u001b[0;34m:\u001b[0m\u001b[0;34m\u001b[0m\u001b[0m\n",
      "\u001b[0;32m/opt/conda/lib/python3.6/site-packages/tpot/base.py\u001b[0m in \u001b[0;36mpredict_proba\u001b[0;34m(self, features)\u001b[0m\n\u001b[1;32m    889\u001b[0m             \u001b[0mfeatures\u001b[0m \u001b[0;34m=\u001b[0m \u001b[0mself\u001b[0m\u001b[0;34m.\u001b[0m\u001b[0m_check_dataset\u001b[0m\u001b[0;34m(\u001b[0m\u001b[0mfeatures\u001b[0m\u001b[0;34m,\u001b[0m \u001b[0mtarget\u001b[0m\u001b[0;34m=\u001b[0m\u001b[0;32mNone\u001b[0m\u001b[0;34m,\u001b[0m \u001b[0msample_weight\u001b[0m\u001b[0;34m=\u001b[0m\u001b[0;32mNone\u001b[0m\u001b[0;34m)\u001b[0m\u001b[0;34m\u001b[0m\u001b[0m\n\u001b[1;32m    890\u001b[0m \u001b[0;34m\u001b[0m\u001b[0m\n\u001b[0;32m--> 891\u001b[0;31m             \u001b[0;32mreturn\u001b[0m \u001b[0mself\u001b[0m\u001b[0;34m.\u001b[0m\u001b[0mfitted_pipeline_\u001b[0m\u001b[0;34m.\u001b[0m\u001b[0mpredict_proba\u001b[0m\u001b[0;34m(\u001b[0m\u001b[0mfeatures\u001b[0m\u001b[0;34m)\u001b[0m\u001b[0;34m\u001b[0m\u001b[0m\n\u001b[0m\u001b[1;32m    892\u001b[0m \u001b[0;34m\u001b[0m\u001b[0m\n\u001b[1;32m    893\u001b[0m \u001b[0;34m\u001b[0m\u001b[0m\n",
      "\u001b[0;32m/opt/conda/lib/python3.6/site-packages/sklearn/utils/metaestimators.py\u001b[0m in \u001b[0;36m<lambda>\u001b[0;34m(*args, **kwargs)\u001b[0m\n\u001b[1;32m    113\u001b[0m \u001b[0;34m\u001b[0m\u001b[0m\n\u001b[1;32m    114\u001b[0m         \u001b[0;31m# lambda, but not partial, allows help() to work with update_wrapper\u001b[0m\u001b[0;34m\u001b[0m\u001b[0;34m\u001b[0m\u001b[0m\n\u001b[0;32m--> 115\u001b[0;31m         \u001b[0mout\u001b[0m \u001b[0;34m=\u001b[0m \u001b[0;32mlambda\u001b[0m \u001b[0;34m*\u001b[0m\u001b[0margs\u001b[0m\u001b[0;34m,\u001b[0m \u001b[0;34m**\u001b[0m\u001b[0mkwargs\u001b[0m\u001b[0;34m:\u001b[0m \u001b[0mself\u001b[0m\u001b[0;34m.\u001b[0m\u001b[0mfn\u001b[0m\u001b[0;34m(\u001b[0m\u001b[0mobj\u001b[0m\u001b[0;34m,\u001b[0m \u001b[0;34m*\u001b[0m\u001b[0margs\u001b[0m\u001b[0;34m,\u001b[0m \u001b[0;34m**\u001b[0m\u001b[0mkwargs\u001b[0m\u001b[0;34m)\u001b[0m\u001b[0;34m\u001b[0m\u001b[0m\n\u001b[0m\u001b[1;32m    116\u001b[0m         \u001b[0;31m# update the docstring of the returned function\u001b[0m\u001b[0;34m\u001b[0m\u001b[0;34m\u001b[0m\u001b[0m\n\u001b[1;32m    117\u001b[0m         \u001b[0mupdate_wrapper\u001b[0m\u001b[0;34m(\u001b[0m\u001b[0mout\u001b[0m\u001b[0;34m,\u001b[0m \u001b[0mself\u001b[0m\u001b[0;34m.\u001b[0m\u001b[0mfn\u001b[0m\u001b[0;34m)\u001b[0m\u001b[0;34m\u001b[0m\u001b[0m\n",
      "\u001b[0;32m/opt/conda/lib/python3.6/site-packages/sklearn/pipeline.py\u001b[0m in \u001b[0;36mpredict_proba\u001b[0;34m(self, X)\u001b[0m\n\u001b[1;32m    354\u001b[0m         \u001b[0;32mfor\u001b[0m \u001b[0mname\u001b[0m\u001b[0;34m,\u001b[0m \u001b[0mtransform\u001b[0m \u001b[0;32min\u001b[0m \u001b[0mself\u001b[0m\u001b[0;34m.\u001b[0m\u001b[0msteps\u001b[0m\u001b[0;34m[\u001b[0m\u001b[0;34m:\u001b[0m\u001b[0;34m-\u001b[0m\u001b[0;36m1\u001b[0m\u001b[0;34m]\u001b[0m\u001b[0;34m:\u001b[0m\u001b[0;34m\u001b[0m\u001b[0m\n\u001b[1;32m    355\u001b[0m             \u001b[0;32mif\u001b[0m \u001b[0mtransform\u001b[0m \u001b[0;32mis\u001b[0m \u001b[0;32mnot\u001b[0m \u001b[0;32mNone\u001b[0m\u001b[0;34m:\u001b[0m\u001b[0;34m\u001b[0m\u001b[0m\n\u001b[0;32m--> 356\u001b[0;31m                 \u001b[0mXt\u001b[0m \u001b[0;34m=\u001b[0m \u001b[0mtransform\u001b[0m\u001b[0;34m.\u001b[0m\u001b[0mtransform\u001b[0m\u001b[0;34m(\u001b[0m\u001b[0mXt\u001b[0m\u001b[0;34m)\u001b[0m\u001b[0;34m\u001b[0m\u001b[0m\n\u001b[0m\u001b[1;32m    357\u001b[0m         \u001b[0;32mreturn\u001b[0m \u001b[0mself\u001b[0m\u001b[0;34m.\u001b[0m\u001b[0msteps\u001b[0m\u001b[0;34m[\u001b[0m\u001b[0;34m-\u001b[0m\u001b[0;36m1\u001b[0m\u001b[0;34m]\u001b[0m\u001b[0;34m[\u001b[0m\u001b[0;34m-\u001b[0m\u001b[0;36m1\u001b[0m\u001b[0;34m]\u001b[0m\u001b[0;34m.\u001b[0m\u001b[0mpredict_proba\u001b[0m\u001b[0;34m(\u001b[0m\u001b[0mXt\u001b[0m\u001b[0;34m)\u001b[0m\u001b[0;34m\u001b[0m\u001b[0m\n\u001b[1;32m    358\u001b[0m \u001b[0;34m\u001b[0m\u001b[0m\n",
      "\u001b[0;32m/opt/conda/lib/python3.6/site-packages/sklearn/pipeline.py\u001b[0m in \u001b[0;36mtransform\u001b[0;34m(self, X)\u001b[0m\n\u001b[1;32m    766\u001b[0m         Xs = Parallel(n_jobs=self.n_jobs)(\n\u001b[1;32m    767\u001b[0m             \u001b[0mdelayed\u001b[0m\u001b[0;34m(\u001b[0m\u001b[0m_transform_one\u001b[0m\u001b[0;34m)\u001b[0m\u001b[0;34m(\u001b[0m\u001b[0mtrans\u001b[0m\u001b[0;34m,\u001b[0m \u001b[0mweight\u001b[0m\u001b[0;34m,\u001b[0m \u001b[0mX\u001b[0m\u001b[0;34m)\u001b[0m\u001b[0;34m\u001b[0m\u001b[0m\n\u001b[0;32m--> 768\u001b[0;31m             for name, trans, weight in self._iter())\n\u001b[0m\u001b[1;32m    769\u001b[0m         \u001b[0;32mif\u001b[0m \u001b[0;32mnot\u001b[0m \u001b[0mXs\u001b[0m\u001b[0;34m:\u001b[0m\u001b[0;34m\u001b[0m\u001b[0m\n\u001b[1;32m    770\u001b[0m             \u001b[0;31m# All transformers are None\u001b[0m\u001b[0;34m\u001b[0m\u001b[0;34m\u001b[0m\u001b[0m\n",
      "\u001b[0;32m/opt/conda/lib/python3.6/site-packages/sklearn/externals/joblib/parallel.py\u001b[0m in \u001b[0;36m__call__\u001b[0;34m(self, iterable)\u001b[0m\n\u001b[1;32m    777\u001b[0m             \u001b[0;31m# was dispatched. In particular this covers the edge\u001b[0m\u001b[0;34m\u001b[0m\u001b[0;34m\u001b[0m\u001b[0m\n\u001b[1;32m    778\u001b[0m             \u001b[0;31m# case of Parallel used with an exhausted iterator.\u001b[0m\u001b[0;34m\u001b[0m\u001b[0;34m\u001b[0m\u001b[0m\n\u001b[0;32m--> 779\u001b[0;31m             \u001b[0;32mwhile\u001b[0m \u001b[0mself\u001b[0m\u001b[0;34m.\u001b[0m\u001b[0mdispatch_one_batch\u001b[0m\u001b[0;34m(\u001b[0m\u001b[0miterator\u001b[0m\u001b[0;34m)\u001b[0m\u001b[0;34m:\u001b[0m\u001b[0;34m\u001b[0m\u001b[0m\n\u001b[0m\u001b[1;32m    780\u001b[0m                 \u001b[0mself\u001b[0m\u001b[0;34m.\u001b[0m\u001b[0m_iterating\u001b[0m \u001b[0;34m=\u001b[0m \u001b[0;32mTrue\u001b[0m\u001b[0;34m\u001b[0m\u001b[0m\n\u001b[1;32m    781\u001b[0m             \u001b[0;32melse\u001b[0m\u001b[0;34m:\u001b[0m\u001b[0;34m\u001b[0m\u001b[0m\n",
      "\u001b[0;32m/opt/conda/lib/python3.6/site-packages/sklearn/externals/joblib/parallel.py\u001b[0m in \u001b[0;36mdispatch_one_batch\u001b[0;34m(self, iterator)\u001b[0m\n\u001b[1;32m    623\u001b[0m                 \u001b[0;32mreturn\u001b[0m \u001b[0;32mFalse\u001b[0m\u001b[0;34m\u001b[0m\u001b[0m\n\u001b[1;32m    624\u001b[0m             \u001b[0;32melse\u001b[0m\u001b[0;34m:\u001b[0m\u001b[0;34m\u001b[0m\u001b[0m\n\u001b[0;32m--> 625\u001b[0;31m                 \u001b[0mself\u001b[0m\u001b[0;34m.\u001b[0m\u001b[0m_dispatch\u001b[0m\u001b[0;34m(\u001b[0m\u001b[0mtasks\u001b[0m\u001b[0;34m)\u001b[0m\u001b[0;34m\u001b[0m\u001b[0m\n\u001b[0m\u001b[1;32m    626\u001b[0m                 \u001b[0;32mreturn\u001b[0m \u001b[0;32mTrue\u001b[0m\u001b[0;34m\u001b[0m\u001b[0m\n\u001b[1;32m    627\u001b[0m \u001b[0;34m\u001b[0m\u001b[0m\n",
      "\u001b[0;32m/opt/conda/lib/python3.6/site-packages/sklearn/externals/joblib/parallel.py\u001b[0m in \u001b[0;36m_dispatch\u001b[0;34m(self, batch)\u001b[0m\n\u001b[1;32m    586\u001b[0m         \u001b[0mdispatch_timestamp\u001b[0m \u001b[0;34m=\u001b[0m \u001b[0mtime\u001b[0m\u001b[0;34m.\u001b[0m\u001b[0mtime\u001b[0m\u001b[0;34m(\u001b[0m\u001b[0;34m)\u001b[0m\u001b[0;34m\u001b[0m\u001b[0m\n\u001b[1;32m    587\u001b[0m         \u001b[0mcb\u001b[0m \u001b[0;34m=\u001b[0m \u001b[0mBatchCompletionCallBack\u001b[0m\u001b[0;34m(\u001b[0m\u001b[0mdispatch_timestamp\u001b[0m\u001b[0;34m,\u001b[0m \u001b[0mlen\u001b[0m\u001b[0;34m(\u001b[0m\u001b[0mbatch\u001b[0m\u001b[0;34m)\u001b[0m\u001b[0;34m,\u001b[0m \u001b[0mself\u001b[0m\u001b[0;34m)\u001b[0m\u001b[0;34m\u001b[0m\u001b[0m\n\u001b[0;32m--> 588\u001b[0;31m         \u001b[0mjob\u001b[0m \u001b[0;34m=\u001b[0m \u001b[0mself\u001b[0m\u001b[0;34m.\u001b[0m\u001b[0m_backend\u001b[0m\u001b[0;34m.\u001b[0m\u001b[0mapply_async\u001b[0m\u001b[0;34m(\u001b[0m\u001b[0mbatch\u001b[0m\u001b[0;34m,\u001b[0m \u001b[0mcallback\u001b[0m\u001b[0;34m=\u001b[0m\u001b[0mcb\u001b[0m\u001b[0;34m)\u001b[0m\u001b[0;34m\u001b[0m\u001b[0m\n\u001b[0m\u001b[1;32m    589\u001b[0m         \u001b[0mself\u001b[0m\u001b[0;34m.\u001b[0m\u001b[0m_jobs\u001b[0m\u001b[0;34m.\u001b[0m\u001b[0mappend\u001b[0m\u001b[0;34m(\u001b[0m\u001b[0mjob\u001b[0m\u001b[0;34m)\u001b[0m\u001b[0;34m\u001b[0m\u001b[0m\n\u001b[1;32m    590\u001b[0m \u001b[0;34m\u001b[0m\u001b[0m\n",
      "\u001b[0;32m/opt/conda/lib/python3.6/site-packages/sklearn/externals/joblib/_parallel_backends.py\u001b[0m in \u001b[0;36mapply_async\u001b[0;34m(self, func, callback)\u001b[0m\n\u001b[1;32m    109\u001b[0m     \u001b[0;32mdef\u001b[0m \u001b[0mapply_async\u001b[0m\u001b[0;34m(\u001b[0m\u001b[0mself\u001b[0m\u001b[0;34m,\u001b[0m \u001b[0mfunc\u001b[0m\u001b[0;34m,\u001b[0m \u001b[0mcallback\u001b[0m\u001b[0;34m=\u001b[0m\u001b[0;32mNone\u001b[0m\u001b[0;34m)\u001b[0m\u001b[0;34m:\u001b[0m\u001b[0;34m\u001b[0m\u001b[0m\n\u001b[1;32m    110\u001b[0m         \u001b[0;34m\"\"\"Schedule a func to be run\"\"\"\u001b[0m\u001b[0;34m\u001b[0m\u001b[0m\n\u001b[0;32m--> 111\u001b[0;31m         \u001b[0mresult\u001b[0m \u001b[0;34m=\u001b[0m \u001b[0mImmediateResult\u001b[0m\u001b[0;34m(\u001b[0m\u001b[0mfunc\u001b[0m\u001b[0;34m)\u001b[0m\u001b[0;34m\u001b[0m\u001b[0m\n\u001b[0m\u001b[1;32m    112\u001b[0m         \u001b[0;32mif\u001b[0m \u001b[0mcallback\u001b[0m\u001b[0;34m:\u001b[0m\u001b[0;34m\u001b[0m\u001b[0m\n\u001b[1;32m    113\u001b[0m             \u001b[0mcallback\u001b[0m\u001b[0;34m(\u001b[0m\u001b[0mresult\u001b[0m\u001b[0;34m)\u001b[0m\u001b[0;34m\u001b[0m\u001b[0m\n",
      "\u001b[0;32m/opt/conda/lib/python3.6/site-packages/sklearn/externals/joblib/_parallel_backends.py\u001b[0m in \u001b[0;36m__init__\u001b[0;34m(self, batch)\u001b[0m\n\u001b[1;32m    330\u001b[0m         \u001b[0;31m# Don't delay the application, to avoid keeping the input\u001b[0m\u001b[0;34m\u001b[0m\u001b[0;34m\u001b[0m\u001b[0m\n\u001b[1;32m    331\u001b[0m         \u001b[0;31m# arguments in memory\u001b[0m\u001b[0;34m\u001b[0m\u001b[0;34m\u001b[0m\u001b[0m\n\u001b[0;32m--> 332\u001b[0;31m         \u001b[0mself\u001b[0m\u001b[0;34m.\u001b[0m\u001b[0mresults\u001b[0m \u001b[0;34m=\u001b[0m \u001b[0mbatch\u001b[0m\u001b[0;34m(\u001b[0m\u001b[0;34m)\u001b[0m\u001b[0;34m\u001b[0m\u001b[0m\n\u001b[0m\u001b[1;32m    333\u001b[0m \u001b[0;34m\u001b[0m\u001b[0m\n\u001b[1;32m    334\u001b[0m     \u001b[0;32mdef\u001b[0m \u001b[0mget\u001b[0m\u001b[0;34m(\u001b[0m\u001b[0mself\u001b[0m\u001b[0;34m)\u001b[0m\u001b[0;34m:\u001b[0m\u001b[0;34m\u001b[0m\u001b[0m\n",
      "\u001b[0;32m/opt/conda/lib/python3.6/site-packages/sklearn/externals/joblib/parallel.py\u001b[0m in \u001b[0;36m__call__\u001b[0;34m(self)\u001b[0m\n\u001b[1;32m    129\u001b[0m \u001b[0;34m\u001b[0m\u001b[0m\n\u001b[1;32m    130\u001b[0m     \u001b[0;32mdef\u001b[0m \u001b[0m__call__\u001b[0m\u001b[0;34m(\u001b[0m\u001b[0mself\u001b[0m\u001b[0;34m)\u001b[0m\u001b[0;34m:\u001b[0m\u001b[0;34m\u001b[0m\u001b[0m\n\u001b[0;32m--> 131\u001b[0;31m         \u001b[0;32mreturn\u001b[0m \u001b[0;34m[\u001b[0m\u001b[0mfunc\u001b[0m\u001b[0;34m(\u001b[0m\u001b[0;34m*\u001b[0m\u001b[0margs\u001b[0m\u001b[0;34m,\u001b[0m \u001b[0;34m**\u001b[0m\u001b[0mkwargs\u001b[0m\u001b[0;34m)\u001b[0m \u001b[0;32mfor\u001b[0m \u001b[0mfunc\u001b[0m\u001b[0;34m,\u001b[0m \u001b[0margs\u001b[0m\u001b[0;34m,\u001b[0m \u001b[0mkwargs\u001b[0m \u001b[0;32min\u001b[0m \u001b[0mself\u001b[0m\u001b[0;34m.\u001b[0m\u001b[0mitems\u001b[0m\u001b[0;34m]\u001b[0m\u001b[0;34m\u001b[0m\u001b[0m\n\u001b[0m\u001b[1;32m    132\u001b[0m \u001b[0;34m\u001b[0m\u001b[0m\n\u001b[1;32m    133\u001b[0m     \u001b[0;32mdef\u001b[0m \u001b[0m__len__\u001b[0m\u001b[0;34m(\u001b[0m\u001b[0mself\u001b[0m\u001b[0;34m)\u001b[0m\u001b[0;34m:\u001b[0m\u001b[0;34m\u001b[0m\u001b[0m\n",
      "\u001b[0;32m/opt/conda/lib/python3.6/site-packages/sklearn/externals/joblib/parallel.py\u001b[0m in \u001b[0;36m<listcomp>\u001b[0;34m(.0)\u001b[0m\n\u001b[1;32m    129\u001b[0m \u001b[0;34m\u001b[0m\u001b[0m\n\u001b[1;32m    130\u001b[0m     \u001b[0;32mdef\u001b[0m \u001b[0m__call__\u001b[0m\u001b[0;34m(\u001b[0m\u001b[0mself\u001b[0m\u001b[0;34m)\u001b[0m\u001b[0;34m:\u001b[0m\u001b[0;34m\u001b[0m\u001b[0m\n\u001b[0;32m--> 131\u001b[0;31m         \u001b[0;32mreturn\u001b[0m \u001b[0;34m[\u001b[0m\u001b[0mfunc\u001b[0m\u001b[0;34m(\u001b[0m\u001b[0;34m*\u001b[0m\u001b[0margs\u001b[0m\u001b[0;34m,\u001b[0m \u001b[0;34m**\u001b[0m\u001b[0mkwargs\u001b[0m\u001b[0;34m)\u001b[0m \u001b[0;32mfor\u001b[0m \u001b[0mfunc\u001b[0m\u001b[0;34m,\u001b[0m \u001b[0margs\u001b[0m\u001b[0;34m,\u001b[0m \u001b[0mkwargs\u001b[0m \u001b[0;32min\u001b[0m \u001b[0mself\u001b[0m\u001b[0;34m.\u001b[0m\u001b[0mitems\u001b[0m\u001b[0;34m]\u001b[0m\u001b[0;34m\u001b[0m\u001b[0m\n\u001b[0m\u001b[1;32m    132\u001b[0m \u001b[0;34m\u001b[0m\u001b[0m\n\u001b[1;32m    133\u001b[0m     \u001b[0;32mdef\u001b[0m \u001b[0m__len__\u001b[0m\u001b[0;34m(\u001b[0m\u001b[0mself\u001b[0m\u001b[0;34m)\u001b[0m\u001b[0;34m:\u001b[0m\u001b[0;34m\u001b[0m\u001b[0m\n",
      "\u001b[0;32m/opt/conda/lib/python3.6/site-packages/sklearn/pipeline.py\u001b[0m in \u001b[0;36m_transform_one\u001b[0;34m(transformer, weight, X)\u001b[0m\n\u001b[1;32m    569\u001b[0m \u001b[0;34m\u001b[0m\u001b[0m\n\u001b[1;32m    570\u001b[0m \u001b[0;32mdef\u001b[0m \u001b[0m_transform_one\u001b[0m\u001b[0;34m(\u001b[0m\u001b[0mtransformer\u001b[0m\u001b[0;34m,\u001b[0m \u001b[0mweight\u001b[0m\u001b[0;34m,\u001b[0m \u001b[0mX\u001b[0m\u001b[0;34m)\u001b[0m\u001b[0;34m:\u001b[0m\u001b[0;34m\u001b[0m\u001b[0m\n\u001b[0;32m--> 571\u001b[0;31m     \u001b[0mres\u001b[0m \u001b[0;34m=\u001b[0m \u001b[0mtransformer\u001b[0m\u001b[0;34m.\u001b[0m\u001b[0mtransform\u001b[0m\u001b[0;34m(\u001b[0m\u001b[0mX\u001b[0m\u001b[0;34m)\u001b[0m\u001b[0;34m\u001b[0m\u001b[0m\n\u001b[0m\u001b[1;32m    572\u001b[0m     \u001b[0;31m# if we have a weight for this transformer, multiply output\u001b[0m\u001b[0;34m\u001b[0m\u001b[0;34m\u001b[0m\u001b[0m\n\u001b[1;32m    573\u001b[0m     \u001b[0;32mif\u001b[0m \u001b[0mweight\u001b[0m \u001b[0;32mis\u001b[0m \u001b[0;32mNone\u001b[0m\u001b[0;34m:\u001b[0m\u001b[0;34m\u001b[0m\u001b[0m\n",
      "\u001b[0;32m/opt/conda/lib/python3.6/site-packages/tpot/builtins/stacking_estimator.py\u001b[0m in \u001b[0;36mtransform\u001b[0;34m(self, X)\u001b[0m\n\u001b[1;32m     85\u001b[0m         \u001b[0;31m# add class probabilities as a synthetic feature\u001b[0m\u001b[0;34m\u001b[0m\u001b[0;34m\u001b[0m\u001b[0m\n\u001b[1;32m     86\u001b[0m         \u001b[0;32mif\u001b[0m \u001b[0missubclass\u001b[0m\u001b[0;34m(\u001b[0m\u001b[0mself\u001b[0m\u001b[0;34m.\u001b[0m\u001b[0mestimator\u001b[0m\u001b[0;34m.\u001b[0m\u001b[0m__class__\u001b[0m\u001b[0;34m,\u001b[0m \u001b[0mClassifierMixin\u001b[0m\u001b[0;34m)\u001b[0m \u001b[0;32mand\u001b[0m \u001b[0mhasattr\u001b[0m\u001b[0;34m(\u001b[0m\u001b[0mself\u001b[0m\u001b[0;34m.\u001b[0m\u001b[0mestimator\u001b[0m\u001b[0;34m,\u001b[0m \u001b[0;34m'predict_proba'\u001b[0m\u001b[0;34m)\u001b[0m\u001b[0;34m:\u001b[0m\u001b[0;34m\u001b[0m\u001b[0m\n\u001b[0;32m---> 87\u001b[0;31m             \u001b[0mX_transformed\u001b[0m \u001b[0;34m=\u001b[0m \u001b[0mnp\u001b[0m\u001b[0;34m.\u001b[0m\u001b[0mhstack\u001b[0m\u001b[0;34m(\u001b[0m\u001b[0;34m(\u001b[0m\u001b[0mself\u001b[0m\u001b[0;34m.\u001b[0m\u001b[0mestimator\u001b[0m\u001b[0;34m.\u001b[0m\u001b[0mpredict_proba\u001b[0m\u001b[0;34m(\u001b[0m\u001b[0mX\u001b[0m\u001b[0;34m)\u001b[0m\u001b[0;34m,\u001b[0m \u001b[0mX\u001b[0m\u001b[0;34m)\u001b[0m\u001b[0;34m)\u001b[0m\u001b[0;34m\u001b[0m\u001b[0m\n\u001b[0m\u001b[1;32m     88\u001b[0m \u001b[0;34m\u001b[0m\u001b[0m\n\u001b[1;32m     89\u001b[0m         \u001b[0;31m# add class prodiction as a synthetic feature\u001b[0m\u001b[0;34m\u001b[0m\u001b[0;34m\u001b[0m\u001b[0m\n",
      "\u001b[0;32m/opt/conda/lib/python3.6/site-packages/sklearn/neighbors/classification.py\u001b[0m in \u001b[0;36mpredict_proba\u001b[0;34m(self, X)\u001b[0m\n\u001b[1;32m    188\u001b[0m         \u001b[0mX\u001b[0m \u001b[0;34m=\u001b[0m \u001b[0mcheck_array\u001b[0m\u001b[0;34m(\u001b[0m\u001b[0mX\u001b[0m\u001b[0;34m,\u001b[0m \u001b[0maccept_sparse\u001b[0m\u001b[0;34m=\u001b[0m\u001b[0;34m'csr'\u001b[0m\u001b[0;34m)\u001b[0m\u001b[0;34m\u001b[0m\u001b[0m\n\u001b[1;32m    189\u001b[0m \u001b[0;34m\u001b[0m\u001b[0m\n\u001b[0;32m--> 190\u001b[0;31m         \u001b[0mneigh_dist\u001b[0m\u001b[0;34m,\u001b[0m \u001b[0mneigh_ind\u001b[0m \u001b[0;34m=\u001b[0m \u001b[0mself\u001b[0m\u001b[0;34m.\u001b[0m\u001b[0mkneighbors\u001b[0m\u001b[0;34m(\u001b[0m\u001b[0mX\u001b[0m\u001b[0;34m)\u001b[0m\u001b[0;34m\u001b[0m\u001b[0m\n\u001b[0m\u001b[1;32m    191\u001b[0m \u001b[0;34m\u001b[0m\u001b[0m\n\u001b[1;32m    192\u001b[0m         \u001b[0mclasses_\u001b[0m \u001b[0;34m=\u001b[0m \u001b[0mself\u001b[0m\u001b[0;34m.\u001b[0m\u001b[0mclasses_\u001b[0m\u001b[0;34m\u001b[0m\u001b[0m\n",
      "\u001b[0;32m/opt/conda/lib/python3.6/site-packages/sklearn/neighbors/base.py\u001b[0m in \u001b[0;36mkneighbors\u001b[0;34m(self, X, n_neighbors, return_distance)\u001b[0m\n\u001b[1;32m    383\u001b[0m                 delayed(self._tree.query, check_pickle=False)(\n\u001b[1;32m    384\u001b[0m                     X[s], n_neighbors, return_distance)\n\u001b[0;32m--> 385\u001b[0;31m                 \u001b[0;32mfor\u001b[0m \u001b[0ms\u001b[0m \u001b[0;32min\u001b[0m \u001b[0mgen_even_slices\u001b[0m\u001b[0;34m(\u001b[0m\u001b[0mX\u001b[0m\u001b[0;34m.\u001b[0m\u001b[0mshape\u001b[0m\u001b[0;34m[\u001b[0m\u001b[0;36m0\u001b[0m\u001b[0;34m]\u001b[0m\u001b[0;34m,\u001b[0m \u001b[0mn_jobs\u001b[0m\u001b[0;34m)\u001b[0m\u001b[0;34m\u001b[0m\u001b[0m\n\u001b[0m\u001b[1;32m    386\u001b[0m             )\n\u001b[1;32m    387\u001b[0m             \u001b[0;32mif\u001b[0m \u001b[0mreturn_distance\u001b[0m\u001b[0;34m:\u001b[0m\u001b[0;34m\u001b[0m\u001b[0m\n",
      "\u001b[0;32m/opt/conda/lib/python3.6/site-packages/sklearn/externals/joblib/parallel.py\u001b[0m in \u001b[0;36m__call__\u001b[0;34m(self, iterable)\u001b[0m\n\u001b[1;32m    777\u001b[0m             \u001b[0;31m# was dispatched. In particular this covers the edge\u001b[0m\u001b[0;34m\u001b[0m\u001b[0;34m\u001b[0m\u001b[0m\n\u001b[1;32m    778\u001b[0m             \u001b[0;31m# case of Parallel used with an exhausted iterator.\u001b[0m\u001b[0;34m\u001b[0m\u001b[0;34m\u001b[0m\u001b[0m\n\u001b[0;32m--> 779\u001b[0;31m             \u001b[0;32mwhile\u001b[0m \u001b[0mself\u001b[0m\u001b[0;34m.\u001b[0m\u001b[0mdispatch_one_batch\u001b[0m\u001b[0;34m(\u001b[0m\u001b[0miterator\u001b[0m\u001b[0;34m)\u001b[0m\u001b[0;34m:\u001b[0m\u001b[0;34m\u001b[0m\u001b[0m\n\u001b[0m\u001b[1;32m    780\u001b[0m                 \u001b[0mself\u001b[0m\u001b[0;34m.\u001b[0m\u001b[0m_iterating\u001b[0m \u001b[0;34m=\u001b[0m \u001b[0;32mTrue\u001b[0m\u001b[0;34m\u001b[0m\u001b[0m\n\u001b[1;32m    781\u001b[0m             \u001b[0;32melse\u001b[0m\u001b[0;34m:\u001b[0m\u001b[0;34m\u001b[0m\u001b[0m\n",
      "\u001b[0;32m/opt/conda/lib/python3.6/site-packages/sklearn/externals/joblib/parallel.py\u001b[0m in \u001b[0;36mdispatch_one_batch\u001b[0;34m(self, iterator)\u001b[0m\n\u001b[1;32m    623\u001b[0m                 \u001b[0;32mreturn\u001b[0m \u001b[0;32mFalse\u001b[0m\u001b[0;34m\u001b[0m\u001b[0m\n\u001b[1;32m    624\u001b[0m             \u001b[0;32melse\u001b[0m\u001b[0;34m:\u001b[0m\u001b[0;34m\u001b[0m\u001b[0m\n\u001b[0;32m--> 625\u001b[0;31m                 \u001b[0mself\u001b[0m\u001b[0;34m.\u001b[0m\u001b[0m_dispatch\u001b[0m\u001b[0;34m(\u001b[0m\u001b[0mtasks\u001b[0m\u001b[0;34m)\u001b[0m\u001b[0;34m\u001b[0m\u001b[0m\n\u001b[0m\u001b[1;32m    626\u001b[0m                 \u001b[0;32mreturn\u001b[0m \u001b[0;32mTrue\u001b[0m\u001b[0;34m\u001b[0m\u001b[0m\n\u001b[1;32m    627\u001b[0m \u001b[0;34m\u001b[0m\u001b[0m\n",
      "\u001b[0;32m/opt/conda/lib/python3.6/site-packages/sklearn/externals/joblib/parallel.py\u001b[0m in \u001b[0;36m_dispatch\u001b[0;34m(self, batch)\u001b[0m\n\u001b[1;32m    586\u001b[0m         \u001b[0mdispatch_timestamp\u001b[0m \u001b[0;34m=\u001b[0m \u001b[0mtime\u001b[0m\u001b[0;34m.\u001b[0m\u001b[0mtime\u001b[0m\u001b[0;34m(\u001b[0m\u001b[0;34m)\u001b[0m\u001b[0;34m\u001b[0m\u001b[0m\n\u001b[1;32m    587\u001b[0m         \u001b[0mcb\u001b[0m \u001b[0;34m=\u001b[0m \u001b[0mBatchCompletionCallBack\u001b[0m\u001b[0;34m(\u001b[0m\u001b[0mdispatch_timestamp\u001b[0m\u001b[0;34m,\u001b[0m \u001b[0mlen\u001b[0m\u001b[0;34m(\u001b[0m\u001b[0mbatch\u001b[0m\u001b[0;34m)\u001b[0m\u001b[0;34m,\u001b[0m \u001b[0mself\u001b[0m\u001b[0;34m)\u001b[0m\u001b[0;34m\u001b[0m\u001b[0m\n\u001b[0;32m--> 588\u001b[0;31m         \u001b[0mjob\u001b[0m \u001b[0;34m=\u001b[0m \u001b[0mself\u001b[0m\u001b[0;34m.\u001b[0m\u001b[0m_backend\u001b[0m\u001b[0;34m.\u001b[0m\u001b[0mapply_async\u001b[0m\u001b[0;34m(\u001b[0m\u001b[0mbatch\u001b[0m\u001b[0;34m,\u001b[0m \u001b[0mcallback\u001b[0m\u001b[0;34m=\u001b[0m\u001b[0mcb\u001b[0m\u001b[0;34m)\u001b[0m\u001b[0;34m\u001b[0m\u001b[0m\n\u001b[0m\u001b[1;32m    589\u001b[0m         \u001b[0mself\u001b[0m\u001b[0;34m.\u001b[0m\u001b[0m_jobs\u001b[0m\u001b[0;34m.\u001b[0m\u001b[0mappend\u001b[0m\u001b[0;34m(\u001b[0m\u001b[0mjob\u001b[0m\u001b[0;34m)\u001b[0m\u001b[0;34m\u001b[0m\u001b[0m\n\u001b[1;32m    590\u001b[0m \u001b[0;34m\u001b[0m\u001b[0m\n",
      "\u001b[0;32m/opt/conda/lib/python3.6/site-packages/sklearn/externals/joblib/_parallel_backends.py\u001b[0m in \u001b[0;36mapply_async\u001b[0;34m(self, func, callback)\u001b[0m\n\u001b[1;32m    109\u001b[0m     \u001b[0;32mdef\u001b[0m \u001b[0mapply_async\u001b[0m\u001b[0;34m(\u001b[0m\u001b[0mself\u001b[0m\u001b[0;34m,\u001b[0m \u001b[0mfunc\u001b[0m\u001b[0;34m,\u001b[0m \u001b[0mcallback\u001b[0m\u001b[0;34m=\u001b[0m\u001b[0;32mNone\u001b[0m\u001b[0;34m)\u001b[0m\u001b[0;34m:\u001b[0m\u001b[0;34m\u001b[0m\u001b[0m\n\u001b[1;32m    110\u001b[0m         \u001b[0;34m\"\"\"Schedule a func to be run\"\"\"\u001b[0m\u001b[0;34m\u001b[0m\u001b[0m\n\u001b[0;32m--> 111\u001b[0;31m         \u001b[0mresult\u001b[0m \u001b[0;34m=\u001b[0m \u001b[0mImmediateResult\u001b[0m\u001b[0;34m(\u001b[0m\u001b[0mfunc\u001b[0m\u001b[0;34m)\u001b[0m\u001b[0;34m\u001b[0m\u001b[0m\n\u001b[0m\u001b[1;32m    112\u001b[0m         \u001b[0;32mif\u001b[0m \u001b[0mcallback\u001b[0m\u001b[0;34m:\u001b[0m\u001b[0;34m\u001b[0m\u001b[0m\n\u001b[1;32m    113\u001b[0m             \u001b[0mcallback\u001b[0m\u001b[0;34m(\u001b[0m\u001b[0mresult\u001b[0m\u001b[0;34m)\u001b[0m\u001b[0;34m\u001b[0m\u001b[0m\n",
      "\u001b[0;32m/opt/conda/lib/python3.6/site-packages/sklearn/externals/joblib/_parallel_backends.py\u001b[0m in \u001b[0;36m__init__\u001b[0;34m(self, batch)\u001b[0m\n\u001b[1;32m    330\u001b[0m         \u001b[0;31m# Don't delay the application, to avoid keeping the input\u001b[0m\u001b[0;34m\u001b[0m\u001b[0;34m\u001b[0m\u001b[0m\n\u001b[1;32m    331\u001b[0m         \u001b[0;31m# arguments in memory\u001b[0m\u001b[0;34m\u001b[0m\u001b[0;34m\u001b[0m\u001b[0m\n\u001b[0;32m--> 332\u001b[0;31m         \u001b[0mself\u001b[0m\u001b[0;34m.\u001b[0m\u001b[0mresults\u001b[0m \u001b[0;34m=\u001b[0m \u001b[0mbatch\u001b[0m\u001b[0;34m(\u001b[0m\u001b[0;34m)\u001b[0m\u001b[0;34m\u001b[0m\u001b[0m\n\u001b[0m\u001b[1;32m    333\u001b[0m \u001b[0;34m\u001b[0m\u001b[0m\n\u001b[1;32m    334\u001b[0m     \u001b[0;32mdef\u001b[0m \u001b[0mget\u001b[0m\u001b[0;34m(\u001b[0m\u001b[0mself\u001b[0m\u001b[0;34m)\u001b[0m\u001b[0;34m:\u001b[0m\u001b[0;34m\u001b[0m\u001b[0m\n",
      "\u001b[0;32m/opt/conda/lib/python3.6/site-packages/sklearn/externals/joblib/parallel.py\u001b[0m in \u001b[0;36m__call__\u001b[0;34m(self)\u001b[0m\n\u001b[1;32m    129\u001b[0m \u001b[0;34m\u001b[0m\u001b[0m\n\u001b[1;32m    130\u001b[0m     \u001b[0;32mdef\u001b[0m \u001b[0m__call__\u001b[0m\u001b[0;34m(\u001b[0m\u001b[0mself\u001b[0m\u001b[0;34m)\u001b[0m\u001b[0;34m:\u001b[0m\u001b[0;34m\u001b[0m\u001b[0m\n\u001b[0;32m--> 131\u001b[0;31m         \u001b[0;32mreturn\u001b[0m \u001b[0;34m[\u001b[0m\u001b[0mfunc\u001b[0m\u001b[0;34m(\u001b[0m\u001b[0;34m*\u001b[0m\u001b[0margs\u001b[0m\u001b[0;34m,\u001b[0m \u001b[0;34m**\u001b[0m\u001b[0mkwargs\u001b[0m\u001b[0;34m)\u001b[0m \u001b[0;32mfor\u001b[0m \u001b[0mfunc\u001b[0m\u001b[0;34m,\u001b[0m \u001b[0margs\u001b[0m\u001b[0;34m,\u001b[0m \u001b[0mkwargs\u001b[0m \u001b[0;32min\u001b[0m \u001b[0mself\u001b[0m\u001b[0;34m.\u001b[0m\u001b[0mitems\u001b[0m\u001b[0;34m]\u001b[0m\u001b[0;34m\u001b[0m\u001b[0m\n\u001b[0m\u001b[1;32m    132\u001b[0m \u001b[0;34m\u001b[0m\u001b[0m\n\u001b[1;32m    133\u001b[0m     \u001b[0;32mdef\u001b[0m \u001b[0m__len__\u001b[0m\u001b[0;34m(\u001b[0m\u001b[0mself\u001b[0m\u001b[0;34m)\u001b[0m\u001b[0;34m:\u001b[0m\u001b[0;34m\u001b[0m\u001b[0m\n",
      "\u001b[0;32m/opt/conda/lib/python3.6/site-packages/sklearn/externals/joblib/parallel.py\u001b[0m in \u001b[0;36m<listcomp>\u001b[0;34m(.0)\u001b[0m\n\u001b[1;32m    129\u001b[0m \u001b[0;34m\u001b[0m\u001b[0m\n\u001b[1;32m    130\u001b[0m     \u001b[0;32mdef\u001b[0m \u001b[0m__call__\u001b[0m\u001b[0;34m(\u001b[0m\u001b[0mself\u001b[0m\u001b[0;34m)\u001b[0m\u001b[0;34m:\u001b[0m\u001b[0;34m\u001b[0m\u001b[0m\n\u001b[0;32m--> 131\u001b[0;31m         \u001b[0;32mreturn\u001b[0m \u001b[0;34m[\u001b[0m\u001b[0mfunc\u001b[0m\u001b[0;34m(\u001b[0m\u001b[0;34m*\u001b[0m\u001b[0margs\u001b[0m\u001b[0;34m,\u001b[0m \u001b[0;34m**\u001b[0m\u001b[0mkwargs\u001b[0m\u001b[0;34m)\u001b[0m \u001b[0;32mfor\u001b[0m \u001b[0mfunc\u001b[0m\u001b[0;34m,\u001b[0m \u001b[0margs\u001b[0m\u001b[0;34m,\u001b[0m \u001b[0mkwargs\u001b[0m \u001b[0;32min\u001b[0m \u001b[0mself\u001b[0m\u001b[0;34m.\u001b[0m\u001b[0mitems\u001b[0m\u001b[0;34m]\u001b[0m\u001b[0;34m\u001b[0m\u001b[0m\n\u001b[0m\u001b[1;32m    132\u001b[0m \u001b[0;34m\u001b[0m\u001b[0m\n\u001b[1;32m    133\u001b[0m     \u001b[0;32mdef\u001b[0m \u001b[0m__len__\u001b[0m\u001b[0;34m(\u001b[0m\u001b[0mself\u001b[0m\u001b[0;34m)\u001b[0m\u001b[0;34m:\u001b[0m\u001b[0;34m\u001b[0m\u001b[0m\n",
      "\u001b[0;32msklearn/neighbors/binary_tree.pxi\u001b[0m in \u001b[0;36msklearn.neighbors.kd_tree.BinaryTree.query\u001b[0;34m()\u001b[0m\n",
      "\u001b[0;31mValueError\u001b[0m: query data dimension must match training data dimension"
     ]
    }
   ],
   "source": [
    "day_score = []\n",
    "window_size = 8\n",
    "cutoff = 0.6\n",
    "window = []\n",
    "samples = []\n",
    "samples_index = []\n",
    "day= victor_30d['temp']\n",
    "prob= []\n",
    "\n",
    "def get_peak(window):\n",
    "    return window.index(max(window))\n",
    "\n",
    "for hour in range (0,len(day)-5,6):\n",
    "    #window = [day[x], day[x+1],day[x+2],day[x+3],day[x+4],day[x+5]]\n",
    "    peak_index = (hour+get_peak(day[hour:hour+window_size]))\n",
    "    \n",
    "    window = day[peak_index-2:peak_index+4]\n",
    "    if(peak_index < 3):\n",
    "        window=day[peak_index:peak_index+6]\n",
    "    #sample_t = scaler.transform([window])\n",
    "    #prob = clf.predict_proba(sample_t)\n",
    "    print(window)\n",
    "    #prob = model.predict_proba([window])\n",
    "    prob = tpot.predict_proba([window])\n",
    "    print(prob)\n",
    "    if(prob[0][1] > cutoff):\n",
    "        samples.append(window)\n",
    "        samples_index.append([peak_index, day[peak_index]])\n",
    "        day_score.append([prob])\n",
    "        print(prob, hour+2, window)\n",
    "\n",
    "#print(day_score[0][0][0][1])\n",
    "result = samples[:]\n",
    "result_index = samples_index[:]\n",
    "final = samples[:]\n",
    "final_i = samples_index[:]\n",
    "\n",
    "#Clean duplicates\n",
    "\"\"\"\n",
    "for x in range(0,len(result_index)-1):\n",
    "    if result_index[x][0]+7 > (result_index[x+1][0]):\n",
    "        if (day_score[x][0][0][1] > day_score[x+1][0][0][1]):\n",
    "            print(result[x])\n",
    "            final.append(result[x])\n",
    "            final_i.append(samples_index[x])\n",
    "        elif (day_score[x][0][0][1] < day_score[x+1][0][0][1]):\n",
    "            final.append(result[x+1])\n",
    "            final_i.append(samples_index[x+1])\n",
    "    else:\n",
    "        final.append(result[x])\n",
    "        final_i.append(samples_index[x])\n",
    "\"\"\"\n",
    "\n",
    "fig, axs = plt.subplots(1, len(final), figsize=(15,2), sharey=True)\n",
    "for x in range(0,len(final)):\n",
    "    axs[x].plot(final[x])\n",
    "\n",
    "plt.figure(figsize=(18,7))\n",
    "for x in range(0, len(final_i)):\n",
    "    plt.plot(final_i[x][0], final_i[x][1], 'rd')\n",
    "plt.plot(day)\n"
   ]
  },
  {
   "cell_type": "markdown",
   "metadata": {},
   "source": [
    "## Plot timeserises\n",
    "* Change y,xlim if needed"
   ]
  },
  {
   "cell_type": "code",
   "execution_count": 4,
   "metadata": {
    "scrolled": false
   },
   "outputs": [
    {
     "data": {
      "text/plain": [
       "(18, 28)"
      ]
     },
     "execution_count": 4,
     "metadata": {},
     "output_type": "execute_result"
    },
    {
     "data": {
      "image/png": "[encoded data removed]",
      "text/plain": [
       "<Figure size 1440x720 with 1 Axes>"
      ]
     },
     "metadata": {},
     "output_type": "display_data"
    }
   ],
   "source": [
    "\n",
    "df.plot(x='time',y='temp',kind='bar', figsize=(20,10))\n",
    "#plt.xlim(70,90)\n",
    "plt.ylim(18,28)\n",
    "\n",
    "#, style='.-',markevery=0"
   ]
  },
  {
   "cell_type": "markdown",
   "metadata": {},
   "source": [
    "## Plot subset"
   ]
  },
  {
   "cell_type": "code",
   "execution_count": 45,
   "metadata": {},
   "outputs": [
    {
     "data": {
      "text/plain": [
       "(19.5, 24)"
      ]
     },
     "execution_count": 45,
     "metadata": {},
     "output_type": "execute_result"
    },
    {
     "data": {
      "image/png": "[encoded data removed]",
      "text/plain": [
       "<Figure size 720x720 with 1 Axes>"
      ]
     },
     "metadata": {},
     "output_type": "display_data"
    }
   ],
   "source": [
    "\n",
    "df.plot(x='time',y='temp',kind='bar', figsize=(10,10))\n",
    "plt.xlim(85,95)\n",
    "plt.ylim(19.5,24)\n",
    "\n",
    "#, style='.-',markevery=0"
   ]
  }
 ],
 "metadata": {
  "kernelspec": {
   "display_name": "Python 3",
   "language": "python",
   "name": "python3"
  },
  "language_info": {
   "codemirror_mode": {
    "name": "ipython",
    "version": 3
   },
   "file_extension": ".py",
   "mimetype": "text/x-python",
   "name": "python",
   "nbconvert_exporter": "python",
   "pygments_lexer": "ipython3",
   "version": "3.6.0"
  }
 },
 "nbformat": 4,
 "nbformat_minor": 2
}
