{
 "cells": [
  {
   "cell_type": "markdown",
   "metadata": {
    "slideshow": {
     "slide_type": "subslide"
    }
   },
   "source": [
    "## Machine learning on small embedded systems \n",
    "\n",
    "### Overall description of the system \n",
    "\n",
    "The goal of this work is to develop a PoC to implement Machine learning in a small device for 2 weeks. \n",
    "\n",
    "#### Device: \n",
    "- IoT device should be in class with a Atmel328p MC in order to demonstrate the ability on similar hardware class. \n",
    "- IoT device has constant power supply. \n",
    "- IoT device via BLE send both sensor data and results of classification at least once/second \n",
    "\n",
    "#### Classification: \n",
    "\n",
    "- Should be based on sensor data and a trained ML model. \n",
    "- The system shall be able to carry out the classification of at least two (2) different classes based on sensor data. \n",
    "- The model should be able to carry out continious prediction based on an input of at least 5 data points (Int16) within one (1) second \n",
    "\n",
    "#### Central Unit: ¶  \n",
    "\n",
    "The system should send sensor/rating outcomes via BLE to a Console app (shall) and mobile app (should) \n",
    "\n",
    "In line with the large increase in connected devices creating large amounts of \"sensor\" data. Where appropriate, trained machine-learning models can carry out huge complex analysis and classification of sensor data and predict trends/classify.\n",
    "While it is good to be able to send large volumes of data for analysis online, this can be problemmatic if internet connection is critical or injuries/damage could occur. \n",
    "\n",
    "### Why? \n",
    "\n",
    "It may be advisable to be able to perform analyses in the local environment, called Edge Computing. This can be achived with a computing unit than can receive data from multiple sensors in real time, filter and analyze the data and finally send a \"batch\" to an online instance for further analysis or user interface. \n",
    "\n",
    "In some cases, there may even be a requirement for immediate action without any delays. For example, the local network might be down or overloaded. There may be a safety aspect with possible personal hazards or major financial losses, and then the right solution should be chosen. \n",
    "\n",
    "### What \n",
    "\n",
    "This work involves implementing such a solution where classification takes place directly in a \"thin\" IoT device. \n",
    "\n",
    "### System overview  \n",
    "<img src=\"./images/overview.jpg\" alt=\"Drawing\" style=\"width: 650px;\"/>\n",
    "\n",
    "\n",
    "### Elscheman på relevanta delar\n",
    "<img src=\"./images/schmatic_lab-05.png\" alt=\"Drawing\" style=\"width: 500px;\"/>\n",
    "\n",
    "### Conslusions\n",
    "The temp sensor I had available was not very accurate. Its possible that a sensor with better accuracy could yield better training data\n",
    "\n",
    "Its intresting to use research work and apply it to your own problem, epecially when information and dokumentation was still under development\n",
    "\n",
    "It became a part debug and ingenuity to make it work. \n",
    "Besides the ML part I got familiar with the BLE protocol and implemented an end-to-end solution with a mobile app.\n",
    "\n",
    "\n"
   ]
  },
  {
   "cell_type": "markdown",
   "metadata": {
    "slideshow": {
     "slide_type": "slide"
    }
   },
   "source": [
    "## Workflow\n",
    "\n",
    "### 1 Recreate the work (bonsai model) från Microsoft\n",
    "https://github.com/Microsoft/EdgeML\n",
    "\n",
    "\n",
    "### 2 Verify it worked on my own hardware\n",
    "This was done in two steps\n",
    "Step 1: In a PC environment using the USPS10 dataset (Handwriten digits)\n",
    "https://www.csie.ntu.edu.tw/~cjlin/libsvmtools/datasets/multiclass.html#usps\n",
    "Ref: J. J. Hull. \n",
    "A database for handwritten text recognition research. \n",
    "IEEE Transactions on Pattern Analysis and Machine Intelligence, 16(5):550-554, May 1994.\n",
    "\n",
    "Step 2:  Using a custom dataset \n",
    "\n",
    "\n",
    "### 3 Runing on atmel238\n",
    "https://github.com/Microsoft/EdgeML/tree/fixed-point/fixed-point\n",
    "Get the model runing on the hardware was a bit challenging, the output for this was for arduino and I neede it to be plain C so I could flash it using AVR\n",
    "\n",
    "### 4 Create custom dataset and train a model\n",
    "The idea was that I different mobile flashes acted differently, an ML model could be used to classify different phones/flashes.\n",
    "\n",
    "I started using a photoresistor and sampled light data which I lates analyzed with pandas and matplotlib.\n",
    "\n",
    "How different flash looked like after sampling data. Here an Iphone 7 and 6\n",
    "<img src=\"./images/plot_flash.png\" alt=\"Drawing\" style=\"width: 500px;\"/>"
   ]
  },
  {
   "cell_type": "code",
   "execution_count": 86,
   "metadata": {
    "slideshow": {
     "slide_type": "subslide"
    }
   },
   "outputs": [
    {
     "data": {
      "text/plain": [
       "(26, 28)"
      ]
     },
     "execution_count": 86,
     "metadata": {},
     "output_type": "execute_result"
    },
    {
     "data": {
      "image/png": "[encoded data removed]",
      "text/plain": [
       "<Figure size 720x216 with 1 Axes>"
      ]
     },
     "metadata": {},
     "output_type": "display_data"
    },
    {
     "data": {
      "image/png": "[encoded data removed]",
      "text/plain": [
       "<Figure size 720x216 with 1 Axes>"
      ]
     },
     "metadata": {},
     "output_type": "display_data"
    }
   ],
   "source": [
    "#Data from a temperature sonsor.\n",
    "from matplotlib import pyplot as plt\n",
    "import pandas as pd\n",
    "\n",
    "dataClassOne = [26.25,26.25,26.25,26.25,27.15,27.22,27.71,26.71,26.31,26.22]\n",
    "dataClassOTwo = [26.25,26.35,26.35,26.25,26.15,26.22,26.21,26.21,26.31,26.22]\n",
    "df = pd.DataFrame(dataClassOne, columns=['Anomaly'])\n",
    "df_2 = pd.DataFrame(dataClassOTwo, columns=['Normal'])\n",
    "df.plot(figsize=(10,3))\n",
    "\n",
    "df_2.plot(figsize=(10,3))\n",
    "plt.ylim(26,28)\n"
   ]
  },
  {
   "cell_type": "markdown",
   "metadata": {
    "slideshow": {
     "slide_type": "slide"
    }
   },
   "source": [
    "### Create final dataset\n",
    "\n",
    "In order to capture flashes and create a dataset i created a sampler(data recorder) program in C.\n",
    "\n",
    "First I checked how long a flash lasted. For example 2 seconds. (This includes a preflash sequence with lower light)\n",
    "I assume this is a measuring phase where the phone meassures the the current lightning conditions and adapts the falsh after it.\n",
    "\n",
    "Then the recoder program would read data from the photoresistor for flashtime + buffer to ensure the sequence is captured without breaks. ex: normal - flash - normal\n",
    "\n",
    "Lastly the recoder would loop for x times.\n",
    "For example If i wanted to take 50 samples of flashes from an Iphone5 i would set the loop counter to 50 and then I would make a flash for each round.\n",
    "\n",
    "I repeted this with 3 differnet kind of phones, taking flashes under the same conditions and distance from the sensor.\n",
    "\n",
    "Limitations:\n",
    "This is just an experiment under an isolated environment. In reality the distance between the phone and the sensor, combined with ambient light conditions would greatly alter the recorded data.\n",
    "\n"
   ]
  },
  {
   "cell_type": "markdown",
   "metadata": {},
   "source": [
    "### 5 Create AVR software for the sensor in C\n",
    "The program reads the input data from the sensor with an interval of 10 meassurements/second\n",
    "The input length of a sample to make a prediction is 20.\n",
    "\n",
    "In order to start \"recording\" a sample, I put on a threshold value on the sensor.\n",
    "Whenever the sensor received a light greater than the ambient value, the recorder would start sampling data.\n",
    "After the sample is complete, a classification in done.\n",
    "\n",
    "At the same time the result is sent to the BLE module with correspoding output class.\n",
    "1, 2 or 3 for each phone.\n",
    "\n",
    "### BLE Module. \n",
    "The Atmel card had a BLE module connected to an UART port, I configured the module as a peripheral and I culd send data using the standard printf command.\n",
    "The data was then sent to whatever deviced was connected/paired to the BLE module.\n",
    "\n",
    "### Consol app\n",
    "* under /bleclient\n",
    "```\n",
    "#From /bleclient, module name/UUID hardcoded\n",
    "npm install\n",
    "node app.js\n",
    "```\n",
    "Simple console BLE app. It will scan for the BLE module and connect to it. It will then print classification results.\n",
    "\n",
    "\n",
    "### iOS application\n",
    "(Note, image for demostration. Here I used a temp sensor to predict with a previous model)\n",
    "<img src=\"./images/React_app_LAB-05.jpg\" alt=\"Drawing\" style=\"width: 300px;\"/>\n",
    "Using the following lib to use BLE.\n",
    "* https://github.com/Polidea/react-native-ble-plx\n",
    " \n",
    "* /bleclient/test (react-native, tested on iOS 12)\n",
    "```\n",
    "#From /bleclient/react_app\n",
    "npm install\n",
    "react-native upgrade\n",
    "react-native link\n",
    "react-native run-ios\n",
    "```\n",
    "\n",
    "\n",
    "### Security\n",
    "Due to the short time to make this project work, no security was added to the hardware or software.\n",
    "\n",
    "\n"
   ]
  },
  {
   "cell_type": "markdown",
   "metadata": {},
   "source": [
    "\n",
    "#### References\n",
    "* Hårdvara \n",
    "* Ardiuno UNO R3\n",
    "* MLT-BT05 BLE Module\n",
    "* TMP36 Temp sensor\n",
    "-----\n",
    "* Machine learning:\n",
    "* https://github.com/Microsoft/EdgeML/tree/master/cpp/src/Bonsai Mahine learning Model (MIT)\n",
    "* https://github.com/Microsoft/EdgeML/tree/fixed-point/fixed-point Atmel328 Example implementation (MIT)\n",
    "----\n",
    "* BLE:\n",
    "* https://github.com/noble/noble Noble NodeJS (MIT)\n",
    "* https://github.com/Polidea/react-native-ble-plx React-native app BLE (Apache License 2.0)\n",
    "* https://facebook.github.io/react-native/ React-native (MIT)\n"
   ]
  }
 ],
 "metadata": {
  "kernelspec": {
   "display_name": "Python 3",
   "language": "python",
   "name": "python3"
  },
  "language_info": {
   "codemirror_mode": {
    "name": "ipython",
    "version": 3
   },
   "file_extension": ".py",
   "mimetype": "text/x-python",
   "name": "python",
   "nbconvert_exporter": "python",
   "pygments_lexer": "ipython3",
   "version": "3.6.6"
  }
 },
 "nbformat": 4,
 "nbformat_minor": 2
}
